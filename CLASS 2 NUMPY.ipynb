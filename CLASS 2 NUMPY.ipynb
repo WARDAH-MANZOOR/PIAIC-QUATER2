{
 "cells": [
  {
   "cell_type": "markdown",
   "id": "b7a152e7",
   "metadata": {},
   "source": [
    "# VECTORIZATION"
   ]
  },
  {
   "cell_type": "code",
   "execution_count": 2,
   "id": "5d67e985",
   "metadata": {},
   "outputs": [
    {
     "data": {
      "text/plain": [
       "array([[10., 10., 10., 10., 10., 10., 10., 10., 10., 10.],\n",
       "       [10., 10., 10., 10., 10., 10., 10., 10., 10., 10.]])"
      ]
     },
     "execution_count": 2,
     "metadata": {},
     "output_type": "execute_result"
    }
   ],
   "source": [
    "import numpy as np\n",
    "arr= np.zeros((2,10))\n",
    "arr + 10"
   ]
  },
  {
   "cell_type": "code",
   "execution_count": 3,
   "id": "495e12c1",
   "metadata": {},
   "outputs": [
    {
     "data": {
      "text/plain": [
       "array([[1., 1., 1., 1., 1., 1., 1., 1., 1., 1.],\n",
       "       [1., 1., 1., 1., 1., 1., 1., 1., 1., 1.]])"
      ]
     },
     "execution_count": 3,
     "metadata": {},
     "output_type": "execute_result"
    }
   ],
   "source": [
    "# ADDING TWO ARRAYS \n",
    "arr2 = np.ones((2,10))\n",
    "arr + arr2"
   ]
  },
  {
   "cell_type": "code",
   "execution_count": 4,
   "id": "6d3d0122",
   "metadata": {},
   "outputs": [
    {
     "name": "stdout",
     "output_type": "stream",
     "text": [
      "[4, 6, 10, 12]\n"
     ]
    }
   ],
   "source": [
    "# ADDING TWO LIST\n",
    "L1 = [1,2,4,5]\n",
    "L2 = [3,4,6,7]\n",
    "sum = []\n",
    "for i,_ in enumerate(L1):\n",
    "    sum.append(L1[i]+L2[i])\n",
    "print(sum)"
   ]
  },
  {
   "cell_type": "markdown",
   "id": "ebca10a4",
   "metadata": {},
   "source": [
    "# WHERE METHOD IN NUMPY"
   ]
  },
  {
   "cell_type": "code",
   "execution_count": 7,
   "id": "e4250a3a",
   "metadata": {},
   "outputs": [
    {
     "data": {
      "text/plain": [
       "array(['PASS', 'FAIL', 'PASS', 'PASS', 'PASS'], dtype='<U4')"
      ]
     },
     "execution_count": 7,
     "metadata": {},
     "output_type": "execute_result"
    }
   ],
   "source": [
    "# CHECKING WHO IS FAIL OR NOT BY APPLYNG CONDITION MARKS >=50 = PASS OTHERWISE FAIL\n",
    "marks = np.array([75,9,50,80,90])\n",
    "np.where(marks>=50,\"PASS\",\"FAIL\")"
   ]
  },
  {
   "cell_type": "code",
   "execution_count": 8,
   "id": "a051b00d",
   "metadata": {},
   "outputs": [
    {
     "data": {
      "text/plain": [
       "array([ 11. ,  73.5, 924. ,  52.5,  33. ])"
      ]
     },
     "execution_count": 8,
     "metadata": {},
     "output_type": "execute_result"
    }
   ],
   "source": [
    "#INCREMENT ON SALARY  IF SALARY LESS THAN 50 INCREMENT 1.1% OTHERWISE INCREMENT 1.05%\n",
    "salary = np.array([10,70,880,50,30])\n",
    "np.where(salary<50,salary*1.1,salary*1.05)"
   ]
  },
  {
   "cell_type": "code",
   "execution_count": 9,
   "id": "194f6ac7",
   "metadata": {},
   "outputs": [
    {
     "data": {
      "text/plain": [
       "dtype('int32')"
      ]
     },
     "execution_count": 9,
     "metadata": {},
     "output_type": "execute_result"
    }
   ],
   "source": [
    "# CHECKING DATA TYPE\n",
    "marks.dtype"
   ]
  },
  {
   "cell_type": "markdown",
   "id": "b5c433a1",
   "metadata": {},
   "source": [
    "# TRANSPOSE"
   ]
  },
  {
   "cell_type": "code",
   "execution_count": 10,
   "id": "4d5e4505",
   "metadata": {},
   "outputs": [
    {
     "data": {
      "text/plain": [
       "array([[  1,   2,   3,   4,   5,   6,   7,   8,   9,  10],\n",
       "       [ 11,  12,  13,  14,  15,  16,  17,  18,  19,  20],\n",
       "       [ 21,  22,  23,  24,  25,  26,  27,  28,  29,  30],\n",
       "       [ 31,  32,  33,  34,  35,  36,  37,  38,  39,  40],\n",
       "       [ 41,  42,  43,  44,  45,  46,  47,  48,  49,  50],\n",
       "       [ 51,  52,  53,  54,  55,  56,  57,  58,  59,  60],\n",
       "       [ 61,  62,  63,  64,  65,  66,  67,  68,  69,  70],\n",
       "       [ 71,  72,  73,  74,  75,  76,  77,  78,  79,  80],\n",
       "       [ 81,  82,  83,  84,  85,  86,  87,  88,  89,  90],\n",
       "       [ 91,  92,  93,  94,  95,  96,  97,  98,  99, 100]])"
      ]
     },
     "execution_count": 10,
     "metadata": {},
     "output_type": "execute_result"
    }
   ],
   "source": [
    "# making an array having 1 to 100 numbers then reshape it by 10 rows and 10 coukumns\n",
    "arr= np.arange(1,101).reshape((10,10))\n",
    "arr"
   ]
  },
  {
   "cell_type": "code",
   "execution_count": 11,
   "id": "5915fa6c",
   "metadata": {},
   "outputs": [
    {
     "data": {
      "text/plain": [
       "array([[  1,  11,  21,  31,  41,  51,  61,  71,  81,  91],\n",
       "       [  2,  12,  22,  32,  42,  52,  62,  72,  82,  92],\n",
       "       [  3,  13,  23,  33,  43,  53,  63,  73,  83,  93],\n",
       "       [  4,  14,  24,  34,  44,  54,  64,  74,  84,  94],\n",
       "       [  5,  15,  25,  35,  45,  55,  65,  75,  85,  95],\n",
       "       [  6,  16,  26,  36,  46,  56,  66,  76,  86,  96],\n",
       "       [  7,  17,  27,  37,  47,  57,  67,  77,  87,  97],\n",
       "       [  8,  18,  28,  38,  48,  58,  68,  78,  88,  98],\n",
       "       [  9,  19,  29,  39,  49,  59,  69,  79,  89,  99],\n",
       "       [ 10,  20,  30,  40,  50,  60,  70,  80,  90, 100]])"
      ]
     },
     "execution_count": 11,
     "metadata": {},
     "output_type": "execute_result"
    }
   ],
   "source": [
    "# APPLYING TRANSPOSE BY USING 'T'\n",
    "arr.T"
   ]
  },
  {
   "cell_type": "code",
   "execution_count": 13,
   "id": "3a589db8",
   "metadata": {},
   "outputs": [
    {
     "data": {
      "text/plain": [
       "array([[  1,  11,  21,  31,  41,  51,  61,  71,  81,  91],\n",
       "       [  2,  12,  22,  32,  42,  52,  62,  72,  82,  92],\n",
       "       [  3,  13,  23,  33,  43,  53,  63,  73,  83,  93],\n",
       "       [  4,  14,  24,  34,  44,  54,  64,  74,  84,  94],\n",
       "       [  5,  15,  25,  35,  45,  55,  65,  75,  85,  95],\n",
       "       [  6,  16,  26,  36,  46,  56,  66,  76,  86,  96],\n",
       "       [  7,  17,  27,  37,  47,  57,  67,  77,  87,  97],\n",
       "       [  8,  18,  28,  38,  48,  58,  68,  78,  88,  98],\n",
       "       [  9,  19,  29,  39,  49,  59,  69,  79,  89,  99],\n",
       "       [ 10,  20,  30,  40,  50,  60,  70,  80,  90, 100]])"
      ]
     },
     "execution_count": 13,
     "metadata": {},
     "output_type": "execute_result"
    }
   ],
   "source": [
    "# APPLYING TRANSPOSE BY USING 'TRANSPOSE'\n",
    "arr.transpose()"
   ]
  },
  {
   "cell_type": "markdown",
   "id": "4c20ac20",
   "metadata": {},
   "source": [
    "# MEAN"
   ]
  },
  {
   "cell_type": "code",
   "execution_count": 14,
   "id": "5688b9dc",
   "metadata": {},
   "outputs": [
    {
     "data": {
      "text/plain": [
       "3.0"
      ]
     },
     "execution_count": 14,
     "metadata": {},
     "output_type": "execute_result"
    }
   ],
   "source": [
    "arr = np.array([1,3,4,5,2])\n",
    "arr.mean()"
   ]
  },
  {
   "cell_type": "markdown",
   "id": "4def51f0",
   "metadata": {},
   "source": [
    "# CUMULATIVE SUM(cumsum)"
   ]
  },
  {
   "cell_type": "code",
   "execution_count": 15,
   "id": "866b5934",
   "metadata": {},
   "outputs": [
    {
     "data": {
      "text/plain": [
       "array([ 1,  4,  8, 13, 15], dtype=int32)"
      ]
     },
     "execution_count": 15,
     "metadata": {},
     "output_type": "execute_result"
    }
   ],
   "source": [
    "arr = np.array([1,3,4,5,2])\n",
    "arr.cumsum()"
   ]
  },
  {
   "cell_type": "markdown",
   "id": "64764410",
   "metadata": {},
   "source": [
    "# CUMULATIVE PRODUCT(cumprod)"
   ]
  },
  {
   "cell_type": "code",
   "execution_count": 16,
   "id": "ee9ece4d",
   "metadata": {},
   "outputs": [
    {
     "data": {
      "text/plain": [
       "array([  1,   3,  12,  60, 120], dtype=int32)"
      ]
     },
     "execution_count": 16,
     "metadata": {},
     "output_type": "execute_result"
    }
   ],
   "source": [
    "arr = np.array([1,3,4,5,2])\n",
    "arr.cumprod()"
   ]
  },
  {
   "cell_type": "markdown",
   "id": "b6fed146",
   "metadata": {},
   "source": [
    "# METHODS FOR BOOLEAN ARRAYS"
   ]
  },
  {
   "cell_type": "code",
   "execution_count": 21,
   "id": "0e1d3651",
   "metadata": {},
   "outputs": [
    {
     "data": {
      "text/plain": [
       "array(['MALE', 'MALE', 'MALE', 'MALE'], dtype='<U6')"
      ]
     },
     "execution_count": 21,
     "metadata": {},
     "output_type": "execute_result"
    }
   ],
   "source": [
    "# only getting values of male \n",
    "gender = np.array(['MALE','FEMALE','MALE','MALE','MALE'])\n",
    "gender[gender=='MALE']"
   ]
  },
  {
   "cell_type": "code",
   "execution_count": 27,
   "id": "3676d162",
   "metadata": {},
   "outputs": [
    {
     "data": {
      "text/plain": [
       "array([ True, False,  True,  True,  True])"
      ]
     },
     "execution_count": 27,
     "metadata": {},
     "output_type": "execute_result"
    }
   ],
   "source": [
    "# get values of male in terms of true and false true for mal\n",
    "arr = gender == 'MALE'\n",
    "arr"
   ]
  },
  {
   "cell_type": "code",
   "execution_count": 28,
   "id": "b36052c1",
   "metadata": {},
   "outputs": [
    {
     "data": {
      "text/plain": [
       "4"
      ]
     },
     "execution_count": 28,
     "metadata": {},
     "output_type": "execute_result"
    }
   ],
   "source": [
    "# checking how many time true value ocurse mean male occurs \n",
    "arr.sum() "
   ]
  },
  {
   "cell_type": "code",
   "execution_count": 30,
   "id": "f3d4d2dc",
   "metadata": {},
   "outputs": [
    {
     "data": {
      "text/plain": [
       "1"
      ]
     },
     "execution_count": 30,
     "metadata": {},
     "output_type": "execute_result"
    }
   ],
   "source": [
    "# checking how many time true value ocurse mean female occurs here we apply condition for female\n",
    "arr = gender== 'FEMALE'\n",
    "arr.sum()"
   ]
  },
  {
   "cell_type": "code",
   "execution_count": 31,
   "id": "33fd0f4c",
   "metadata": {},
   "outputs": [
    {
     "data": {
      "text/plain": [
       "True"
      ]
     },
     "execution_count": 31,
     "metadata": {},
     "output_type": "execute_result"
    }
   ],
   "source": [
    "# cheking female occurs atleast one time in array (EXISTENTIAL QUANTIFIER) ----->ANY\n",
    "arr= gender =='FEMALE'\n",
    "arr.any()"
   ]
  },
  {
   "cell_type": "code",
   "execution_count": 32,
   "id": "aaa92805",
   "metadata": {},
   "outputs": [
    {
     "data": {
      "text/plain": [
       "False"
      ]
     },
     "execution_count": 32,
     "metadata": {},
     "output_type": "execute_result"
    }
   ],
   "source": [
    "# checking  all elements array are female or not (UNIVERSAL QUANTIFIER)----> ALL\n",
    "arr= gender =='FEMALE'\n",
    "arr.all()"
   ]
  },
  {
   "cell_type": "code",
   "execution_count": 35,
   "id": "9f337c1d",
   "metadata": {},
   "outputs": [
    {
     "data": {
      "text/plain": [
       "array([ True,  True,  True,  True,  True])"
      ]
     },
     "execution_count": 35,
     "metadata": {},
     "output_type": "execute_result"
    }
   ],
   "source": [
    "arr=np.array([2,4,10,20,16])\n",
    "x = arr%2==0 # checking even values in array\n",
    "x"
   ]
  },
  {
   "cell_type": "code",
   "execution_count": 36,
   "id": "1a05161f",
   "metadata": {},
   "outputs": [
    {
     "data": {
      "text/plain": [
       "True"
      ]
     },
     "execution_count": 36,
     "metadata": {},
     "output_type": "execute_result"
    }
   ],
   "source": [
    "x.all()"
   ]
  },
  {
   "cell_type": "markdown",
   "id": "aeb46b94",
   "metadata": {},
   "source": [
    "# SORTING"
   ]
  },
  {
   "cell_type": "code",
   "execution_count": 38,
   "id": "1ad14112",
   "metadata": {},
   "outputs": [
    {
     "data": {
      "text/plain": [
       "array([ 2,  4, 10, 16, 20])"
      ]
     },
     "execution_count": 38,
     "metadata": {},
     "output_type": "execute_result"
    }
   ],
   "source": [
    "arr = np.array([2,4,10,20,16])\n",
    "arr.sort()\n",
    "arr"
   ]
  },
  {
   "cell_type": "code",
   "execution_count": 40,
   "id": "c5fbda4e",
   "metadata": {},
   "outputs": [
    {
     "data": {
      "text/plain": [
       "array([20, 16, 10,  4,  2])"
      ]
     },
     "execution_count": 40,
     "metadata": {},
     "output_type": "execute_result"
    }
   ],
   "source": [
    "# DESCENDING\n",
    "arr[::-1]"
   ]
  },
  {
   "cell_type": "markdown",
   "id": "6edb9312",
   "metadata": {},
   "source": [
    "# UNIQUE"
   ]
  },
  {
   "cell_type": "code",
   "execution_count": 48,
   "id": "66a67d78",
   "metadata": {},
   "outputs": [
    {
     "data": {
      "text/plain": [
       "array([1, 2, 4, 6])"
      ]
     },
     "execution_count": 48,
     "metadata": {},
     "output_type": "execute_result"
    }
   ],
   "source": [
    "arr= np.array([1,2,4,1,6,2])\n",
    "u = np.unique(arr)\n",
    "u"
   ]
  },
  {
   "cell_type": "markdown",
   "id": "b057bc03",
   "metadata": {},
   "source": [
    "# FILE INPUT OUTPUT"
   ]
  },
  {
   "cell_type": "code",
   "execution_count": 49,
   "id": "45a890b0",
   "metadata": {},
   "outputs": [],
   "source": [
    "# FOR SAVING 1 ARRAY IN FILE\n",
    "np.save('data',u)"
   ]
  },
  {
   "cell_type": "code",
   "execution_count": 50,
   "id": "66349e3b",
   "metadata": {},
   "outputs": [
    {
     "data": {
      "text/plain": [
       "array([1, 2, 4, 6])"
      ]
     },
     "execution_count": 50,
     "metadata": {},
     "output_type": "execute_result"
    }
   ],
   "source": [
    "# LOADING FILE\n",
    "content = np.load('data.npy')\n",
    "content"
   ]
  },
  {
   "cell_type": "code",
   "execution_count": 51,
   "id": "56467761",
   "metadata": {},
   "outputs": [],
   "source": [
    "# SAVING MULTIPLE ARRAYS IN 1 FILE ,THIS TIME WE SAVE 2 ARRAYS IN 1 FILE\n",
    "students = np.array(['ALI','ASAD','AHMED'])\n",
    "marks = np.array([30,20,60])\n",
    "#SAVING ARRAYS IN FILE\n",
    "np.savez('ARRAYS',std=students,m = marks)"
   ]
  },
  {
   "cell_type": "code",
   "execution_count": 52,
   "id": "09a0ed9d",
   "metadata": {},
   "outputs": [
    {
     "data": {
      "text/plain": [
       "array(['ALI', 'ASAD', 'AHMED'], dtype='<U5')"
      ]
     },
     "execution_count": 52,
     "metadata": {},
     "output_type": "execute_result"
    }
   ],
   "source": [
    "# LOADING FILE \n",
    "results = np.load('ARRAYS.npz')\n",
    "results['std']"
   ]
  },
  {
   "cell_type": "code",
   "execution_count": 53,
   "id": "98ec6feb",
   "metadata": {},
   "outputs": [
    {
     "data": {
      "text/plain": [
       "array([30, 20, 60])"
      ]
     },
     "execution_count": 53,
     "metadata": {},
     "output_type": "execute_result"
    }
   ],
   "source": [
    "results['m']"
   ]
  },
  {
   "cell_type": "markdown",
   "id": "571f9277",
   "metadata": {},
   "source": [
    "# LINEAR ALGEBRA FUNCTION"
   ]
  },
  {
   "cell_type": "code",
   "execution_count": 57,
   "id": "1f71ea02",
   "metadata": {},
   "outputs": [],
   "source": [
    "from numpy import linalg"
   ]
  },
  {
   "cell_type": "code",
   "execution_count": 58,
   "id": "a20c925c",
   "metadata": {},
   "outputs": [
    {
     "data": {
      "text/plain": [
       "array([[ 0,  1,  2,  3],\n",
       "       [ 4,  5,  6,  7],\n",
       "       [ 8,  9, 10, 11],\n",
       "       [12, 13, 14, 15]])"
      ]
     },
     "execution_count": 58,
     "metadata": {},
     "output_type": "execute_result"
    }
   ],
   "source": [
    "arr = np.arange(16).reshape((4,4))\n",
    "arr"
   ]
  },
  {
   "cell_type": "code",
   "execution_count": 59,
   "id": "7620f206",
   "metadata": {},
   "outputs": [
    {
     "data": {
      "text/plain": [
       "array([ 0,  5, 10, 15])"
      ]
     },
     "execution_count": 59,
     "metadata": {},
     "output_type": "execute_result"
    }
   ],
   "source": [
    "# FINDING DIAGONAL VALUES ONLY\n",
    "arr.diagonal()"
   ]
  },
  {
   "cell_type": "code",
   "execution_count": 61,
   "id": "ffdac972",
   "metadata": {},
   "outputs": [
    {
     "data": {
      "text/plain": [
       "30"
      ]
     },
     "execution_count": 61,
     "metadata": {},
     "output_type": "execute_result"
    }
   ],
   "source": [
    "# SUM OF DIAGONAL ELEMNTS\n",
    "arr.trace()"
   ]
  },
  {
   "cell_type": "code",
   "execution_count": 63,
   "id": "783fa1fd",
   "metadata": {},
   "outputs": [
    {
     "data": {
      "text/plain": [
       "array([[10, 11, 12, 13],\n",
       "       [14, 15, 16, 17],\n",
       "       [18, 19, 20, 21],\n",
       "       [22, 23, 24, 25]])"
      ]
     },
     "execution_count": 63,
     "metadata": {},
     "output_type": "execute_result"
    }
   ],
   "source": [
    "#CREATING NEW ARRAY\n",
    "arr1 = np.arange(10,26).reshape((4,4))\n",
    "arr1"
   ]
  },
  {
   "cell_type": "code",
   "execution_count": 64,
   "id": "bec2261e",
   "metadata": {},
   "outputs": [
    {
     "data": {
      "text/plain": [
       "array([[ 116,  122,  128,  134],\n",
       "       [ 372,  394,  416,  438],\n",
       "       [ 628,  666,  704,  742],\n",
       "       [ 884,  938,  992, 1046]])"
      ]
     },
     "execution_count": 64,
     "metadata": {},
     "output_type": "execute_result"
    }
   ],
   "source": [
    "# MULTIPLYING TWO ARRAYS USING DOT FUNCTION\n",
    "arr.dot(arr1)"
   ]
  },
  {
   "cell_type": "code",
   "execution_count": 67,
   "id": "b2450110",
   "metadata": {},
   "outputs": [
    {
     "data": {
      "text/plain": [
       "-2.9582283945787796e-30"
      ]
     },
     "execution_count": 67,
     "metadata": {},
     "output_type": "execute_result"
    }
   ],
   "source": [
    "# FINDING DETERMINANT\n",
    "linalg.det(arr)"
   ]
  },
  {
   "cell_type": "code",
   "execution_count": 68,
   "id": "f0272129",
   "metadata": {},
   "outputs": [
    {
     "data": {
      "text/plain": [
       "(array([ 3.24642492e+01, -2.46424920e+00,  4.52933966e-17, -1.52275132e-15]),\n",
       " array([[-0.11417645, -0.7327781 ,  0.01936986, -0.48846795],\n",
       "        [-0.3300046 , -0.28974835,  0.38216644,  0.83598112],\n",
       "        [-0.54583275,  0.15328139, -0.82244247, -0.20655839],\n",
       "        [-0.76166089,  0.59631113,  0.42090617, -0.14095478]]))"
      ]
     },
     "execution_count": 68,
     "metadata": {},
     "output_type": "execute_result"
    }
   ],
   "source": [
    "# FINDING VARIANCE INFO OF MATRIX\n",
    "linalg.eig(arr)"
   ]
  },
  {
   "cell_type": "code",
   "execution_count": 70,
   "id": "934162ed",
   "metadata": {},
   "outputs": [
    {
     "data": {
      "text/plain": [
       "array([[-0.21621622,  0.13513514],\n",
       "       [ 0.24324324, -0.02702703]])"
      ]
     },
     "execution_count": 70,
     "metadata": {},
     "output_type": "execute_result"
    }
   ],
   "source": [
    "# FINDING INVERSE OF MATRIX\n",
    "linalg.inv(np.array([[1,5],[9,8]]))"
   ]
  },
  {
   "cell_type": "code",
   "execution_count": 71,
   "id": "189f74a6",
   "metadata": {},
   "outputs": [
    {
     "data": {
      "text/plain": [
       "(array([[ 0.        , -0.83666003,  0.48308786,  0.25812035],\n",
       "        [-0.26726124, -0.47809144, -0.8365087 ,  0.01591196],\n",
       "        [-0.53452248, -0.11952286,  0.22375381, -0.80618499],\n",
       "        [-0.80178373,  0.23904572,  0.12966702,  0.53215267]]),\n",
       " array([[-1.49666295e+01, -1.65701970e+01, -1.81737645e+01,\n",
       "         -1.97773319e+01],\n",
       "        [ 0.00000000e+00, -1.19522861e+00, -2.39045722e+00,\n",
       "         -3.58568583e+00],\n",
       "        [ 0.00000000e+00,  0.00000000e+00, -1.71941189e-15,\n",
       "         -5.12511879e-15],\n",
       "        [ 0.00000000e+00,  0.00000000e+00,  0.00000000e+00,\n",
       "         -8.82043219e-16]]))"
      ]
     },
     "execution_count": 71,
     "metadata": {},
     "output_type": "execute_result"
    }
   ],
   "source": [
    "# breaking 1 matrix into 2 pieces 1st part is 'q' secong part is r\n",
    "linalg.qr(arr)"
   ]
  },
  {
   "cell_type": "code",
   "execution_count": 72,
   "id": "c986da8b",
   "metadata": {},
   "outputs": [
    {
     "data": {
      "text/plain": [
       "(array([[-0.09184212, -0.83160389,  0.52939495,  0.14050262],\n",
       "        [-0.31812733, -0.44586433, -0.8105844 ,  0.20725087],\n",
       "        [-0.54441254, -0.06012478,  0.03298396, -0.8360096 ],\n",
       "        [-0.77069775,  0.32561478,  0.2482055 ,  0.48825611]]),\n",
       " array([3.51399637e+01, 2.27661021e+00, 8.80118491e-16, 4.41188001e-17]),\n",
       " array([[-0.42334086, -0.47243254, -0.52152422, -0.57061589],\n",
       "        [ 0.72165263,  0.27714165, -0.16736932, -0.6118803 ],\n",
       "        [ 0.5427818 , -0.66899815, -0.29034911,  0.41656546],\n",
       "        [ 0.0734024 , -0.50243554,  0.78466387, -0.35563073]]))"
      ]
     },
     "execution_count": 72,
     "metadata": {},
     "output_type": "execute_result"
    }
   ],
   "source": [
    "# breaking 1 matrix in to 3 pecies ,1st part = l,2nd part = u,3rd part = r\n",
    "linalg.svd(arr)"
   ]
  },
  {
   "cell_type": "markdown",
   "id": "45edfada",
   "metadata": {},
   "source": [
    "# PSEUDO RANDOM NUMBER GENERATION\n",
    "#### NORMAL()\n",
    "#### SEED()\n",
    "#### GAMMA()\n",
    "#### UNIFORM()"
   ]
  },
  {
   "cell_type": "code",
   "execution_count": 74,
   "id": "ddcf7388",
   "metadata": {},
   "outputs": [
    {
     "data": {
      "text/plain": [
       "array([[ 1.77567311,  3.04614277,  8.43957528],\n",
       "       [ 8.89311645,  8.26228976, -1.45135213],\n",
       "       [ 0.93626586,  6.39001578,  2.71536112]])"
      ]
     },
     "execution_count": 74,
     "metadata": {},
     "output_type": "execute_result"
    }
   ],
   "source": [
    "# NORMAL DISTRIBUTION\n",
    "np.random.normal(3,4,(3,3))"
   ]
  },
  {
   "cell_type": "code",
   "execution_count": 75,
   "id": "731262f6",
   "metadata": {},
   "outputs": [
    {
     "data": {
      "text/plain": [
       "array([[0.81221982, 7.34088634, 3.9315646 , 1.33523564],\n",
       "       [1.45491072, 1.7429958 , 1.16043504, 0.15098835],\n",
       "       [1.04229223, 9.16730872, 0.6633487 , 1.17974876],\n",
       "       [1.67269206, 0.5949608 , 0.56581901, 2.1719964 ]])"
      ]
     },
     "execution_count": 75,
     "metadata": {},
     "output_type": "execute_result"
    }
   ],
   "source": [
    "# GAMMA DISTRIBUTION\n",
    "np.random.gamma(1,2,(4,4))"
   ]
  },
  {
   "cell_type": "code",
   "execution_count": 78,
   "id": "9ad388b6",
   "metadata": {},
   "outputs": [
    {
     "data": {
      "text/plain": [
       "0.22199317108973948"
      ]
     },
     "execution_count": 78,
     "metadata": {},
     "output_type": "execute_result"
    }
   ],
   "source": [
    "# SEED DISTRIBUTION\n",
    "np.random.seed(5)\n",
    "np.random.rand()"
   ]
  },
  {
   "cell_type": "code",
   "execution_count": 79,
   "id": "b94e2e76",
   "metadata": {},
   "outputs": [
    {
     "data": {
      "text/plain": [
       "array([[4.48292922, 1.82687662, 4.67444363, 2.95364476],\n",
       "       [3.44697545, 4.06363143, 3.07367195, 2.18720201],\n",
       "       [1.75088491, 1.32296508, 3.95376118, 2.76523689]])"
      ]
     },
     "execution_count": 79,
     "metadata": {},
     "output_type": "execute_result"
    }
   ],
   "source": [
    "# UNIFORM DISTRIBUTION\n",
    "np.random.uniform(1,5,(3,4))"
   ]
  },
  {
   "cell_type": "markdown",
   "id": "d8211549",
   "metadata": {},
   "source": [
    "# RESHAPE"
   ]
  },
  {
   "cell_type": "code",
   "execution_count": 80,
   "id": "4c3eecc7",
   "metadata": {},
   "outputs": [
    {
     "data": {
      "text/plain": [
       "array([[[ 0,  1,  2,  3],\n",
       "        [ 4,  5,  6,  7]],\n",
       "\n",
       "       [[ 8,  9, 10, 11],\n",
       "        [12, 13, 14, 15]]])"
      ]
     },
     "execution_count": 80,
     "metadata": {},
     "output_type": "execute_result"
    }
   ],
   "source": [
    "arr = np.arange(16)\n",
    "arr.reshape((2,2,4))"
   ]
  },
  {
   "cell_type": "code",
   "execution_count": 81,
   "id": "101b09af",
   "metadata": {},
   "outputs": [
    {
     "data": {
      "text/plain": [
       "array([[ 0,  4,  8, 12],\n",
       "       [ 1,  5,  9, 13],\n",
       "       [ 2,  6, 10, 14],\n",
       "       [ 3,  7, 11, 15]])"
      ]
     },
     "execution_count": 81,
     "metadata": {},
     "output_type": "execute_result"
    }
   ],
   "source": [
    "# RESHAPE COLUMN WISE  COLUMN = F\n",
    "arr = np.arange(16)\n",
    "arr.reshape((4,4),order = 'F')"
   ]
  },
  {
   "cell_type": "code",
   "execution_count": 87,
   "id": "bcfbf978",
   "metadata": {},
   "outputs": [
    {
     "data": {
      "text/plain": [
       "array([[ 0,  1,  2,  3],\n",
       "       [ 4,  5,  6,  7],\n",
       "       [ 8,  9, 10, 11],\n",
       "       [12, 13, 14, 15]])"
      ]
     },
     "execution_count": 87,
     "metadata": {},
     "output_type": "execute_result"
    }
   ],
   "source": [
    "# RESHAPE ROW WISE ROW = C\n",
    "arr.reshape((4,4),order = 'C')"
   ]
  },
  {
   "cell_type": "markdown",
   "id": "22c154f4",
   "metadata": {},
   "source": [
    "# CONVERTING IN TO 1D ARRAY\n",
    "#### 1. FLATTEN\n",
    "#### 2. RAVEL\n",
    "###### Flatten always produces a one-dimensional copy, whereas ravel attempts to provide a one-dimensional view of \n",
    "###### the original matrix."
   ]
  },
  {
   "cell_type": "code",
   "execution_count": 83,
   "id": "59bcf3d1",
   "metadata": {},
   "outputs": [
    {
     "data": {
      "text/plain": [
       "array([ 0,  1,  2,  3,  4,  5,  6,  7,  8,  9, 10, 11, 12, 13, 14, 15])"
      ]
     },
     "execution_count": 83,
     "metadata": {},
     "output_type": "execute_result"
    }
   ],
   "source": [
    "arr.flatten()"
   ]
  },
  {
   "cell_type": "code",
   "execution_count": 84,
   "id": "19cc8072",
   "metadata": {},
   "outputs": [
    {
     "data": {
      "text/plain": [
       "array([ 0,  1,  2,  3,  4,  5,  6,  7,  8,  9, 10, 11, 12, 13, 14, 15])"
      ]
     },
     "execution_count": 84,
     "metadata": {},
     "output_type": "execute_result"
    }
   ],
   "source": [
    "arr.ravel()"
   ]
  },
  {
   "cell_type": "code",
   "execution_count": 89,
   "id": "1a1e7a7d",
   "metadata": {},
   "outputs": [
    {
     "data": {
      "text/plain": [
       "array([ 0,  1,  2,  3,  4,  5,  6,  7,  8,  9, 10, 11, 12, 13, 14, 15])"
      ]
     },
     "execution_count": 89,
     "metadata": {},
     "output_type": "execute_result"
    }
   ],
   "source": [
    "arr.reshape(16)"
   ]
  },
  {
   "cell_type": "markdown",
   "id": "f96a47c6",
   "metadata": {},
   "source": [
    "# CONCATENATE"
   ]
  },
  {
   "cell_type": "code",
   "execution_count": 91,
   "id": "e31efed5",
   "metadata": {},
   "outputs": [],
   "source": [
    "a = np.array([[1,2],[3,4]])\n",
    "b = np.array([[7,8],[9,10]])"
   ]
  },
  {
   "cell_type": "code",
   "execution_count": 92,
   "id": "ff20c0ad",
   "metadata": {},
   "outputs": [
    {
     "data": {
      "text/plain": [
       "array([[1, 2],\n",
       "       [3, 4]])"
      ]
     },
     "execution_count": 92,
     "metadata": {},
     "output_type": "execute_result"
    }
   ],
   "source": [
    "a"
   ]
  },
  {
   "cell_type": "code",
   "execution_count": 93,
   "id": "046e8060",
   "metadata": {},
   "outputs": [
    {
     "data": {
      "text/plain": [
       "array([[ 7,  8],\n",
       "       [ 9, 10]])"
      ]
     },
     "execution_count": 93,
     "metadata": {},
     "output_type": "execute_result"
    }
   ],
   "source": [
    "b"
   ]
  },
  {
   "cell_type": "markdown",
   "id": "b6b2e11f",
   "metadata": {},
   "source": [
    "### 1ST METHOD"
   ]
  },
  {
   "cell_type": "code",
   "execution_count": 95,
   "id": "dc8accc5",
   "metadata": {},
   "outputs": [
    {
     "data": {
      "text/plain": [
       "array([[ 1,  2],\n",
       "       [ 3,  4],\n",
       "       [ 7,  8],\n",
       "       [ 9, 10]])"
      ]
     },
     "execution_count": 95,
     "metadata": {},
     "output_type": "execute_result"
    }
   ],
   "source": [
    "# CONCATENATE ROW WISE (AXIS = O) = ROW \n",
    "np.concatenate((a,b),axis= 0)"
   ]
  },
  {
   "cell_type": "code",
   "execution_count": 96,
   "id": "5b01b556",
   "metadata": {},
   "outputs": [
    {
     "data": {
      "text/plain": [
       "array([[ 1,  2,  7,  8],\n",
       "       [ 3,  4,  9, 10]])"
      ]
     },
     "execution_count": 96,
     "metadata": {},
     "output_type": "execute_result"
    }
   ],
   "source": [
    "# CONCATENATE COLUMN WISE (AXIS = 1) = COLUMN \n",
    "np.concatenate((a,b),axis= 1)"
   ]
  },
  {
   "cell_type": "code",
   "execution_count": 97,
   "id": "ca9fb77b",
   "metadata": {},
   "outputs": [],
   "source": [
    "a = np.array([[1,7,9],[2,3,4],[5,6,7]])\n",
    "b = np.array([[9,4,9],[2,3,2],[0,6,7]])"
   ]
  },
  {
   "cell_type": "code",
   "execution_count": 98,
   "id": "08ec737d",
   "metadata": {},
   "outputs": [
    {
     "data": {
      "text/plain": [
       "array([[1, 7, 9],\n",
       "       [2, 3, 4],\n",
       "       [5, 6, 7]])"
      ]
     },
     "execution_count": 98,
     "metadata": {},
     "output_type": "execute_result"
    }
   ],
   "source": [
    "a"
   ]
  },
  {
   "cell_type": "code",
   "execution_count": 99,
   "id": "ba2388f4",
   "metadata": {},
   "outputs": [
    {
     "data": {
      "text/plain": [
       "array([[9, 4, 9],\n",
       "       [2, 3, 2],\n",
       "       [0, 6, 7]])"
      ]
     },
     "execution_count": 99,
     "metadata": {},
     "output_type": "execute_result"
    }
   ],
   "source": [
    "b"
   ]
  },
  {
   "cell_type": "code",
   "execution_count": 100,
   "id": "6ee97a1e",
   "metadata": {},
   "outputs": [
    {
     "data": {
      "text/plain": [
       "array([[1, 7, 9],\n",
       "       [2, 3, 4],\n",
       "       [5, 6, 7],\n",
       "       [9, 4, 9],\n",
       "       [2, 3, 2],\n",
       "       [0, 6, 7]])"
      ]
     },
     "execution_count": 100,
     "metadata": {},
     "output_type": "execute_result"
    }
   ],
   "source": [
    "# CONCATENATE ROW WISE (AXIS = O) = ROW \n",
    "np.concatenate((a,b),axis= 0)"
   ]
  },
  {
   "cell_type": "code",
   "execution_count": 101,
   "id": "f06df537",
   "metadata": {},
   "outputs": [
    {
     "data": {
      "text/plain": [
       "array([[1, 7, 9, 9, 4, 9],\n",
       "       [2, 3, 4, 2, 3, 2],\n",
       "       [5, 6, 7, 0, 6, 7]])"
      ]
     },
     "execution_count": 101,
     "metadata": {},
     "output_type": "execute_result"
    }
   ],
   "source": [
    "# CONCATENATE COLUMN WISE (AXIS = 1) = COLUMN \n",
    "np.concatenate((a,b),axis= 1)"
   ]
  },
  {
   "cell_type": "markdown",
   "id": "62ce4756",
   "metadata": {},
   "source": [
    "### 2ND METHOD"
   ]
  },
  {
   "cell_type": "code",
   "execution_count": 102,
   "id": "3ac8833e",
   "metadata": {},
   "outputs": [
    {
     "data": {
      "text/plain": [
       "array([[1, 7, 9],\n",
       "       [2, 3, 4],\n",
       "       [5, 6, 7],\n",
       "       [9, 4, 9],\n",
       "       [2, 3, 2],\n",
       "       [0, 6, 7]])"
      ]
     },
     "execution_count": 102,
     "metadata": {},
     "output_type": "execute_result"
    }
   ],
   "source": [
    "# CONCATENATE ROW WISE (vstack) = ROW \n",
    "np.vstack((a,b))"
   ]
  },
  {
   "cell_type": "code",
   "execution_count": 104,
   "id": "7841f0a1",
   "metadata": {},
   "outputs": [
    {
     "data": {
      "text/plain": [
       "array([[1, 7, 9, 9, 4, 9],\n",
       "       [2, 3, 4, 2, 3, 2],\n",
       "       [5, 6, 7, 0, 6, 7]])"
      ]
     },
     "execution_count": 104,
     "metadata": {},
     "output_type": "execute_result"
    }
   ],
   "source": [
    "# CONCATENATE COLUMN WISE (hstack) = COLUMN \n",
    "np.hstack((a,b))\n"
   ]
  },
  {
   "cell_type": "markdown",
   "id": "072e7b6c",
   "metadata": {},
   "source": [
    "### 3RD METHOD"
   ]
  },
  {
   "cell_type": "code",
   "execution_count": 105,
   "id": "061c1a5e",
   "metadata": {},
   "outputs": [
    {
     "data": {
      "text/plain": [
       "array([[1, 7, 9],\n",
       "       [2, 3, 4],\n",
       "       [5, 6, 7],\n",
       "       [9, 4, 9],\n",
       "       [2, 3, 2],\n",
       "       [0, 6, 7]])"
      ]
     },
     "execution_count": 105,
     "metadata": {},
     "output_type": "execute_result"
    }
   ],
   "source": [
    "# CONCATENATE ROW WISE (r_) = ROW \n",
    "np.r_[a,b]"
   ]
  },
  {
   "cell_type": "code",
   "execution_count": 106,
   "id": "02193c53",
   "metadata": {},
   "outputs": [
    {
     "data": {
      "text/plain": [
       "array([[1, 7, 9, 9, 4, 9],\n",
       "       [2, 3, 4, 2, 3, 2],\n",
       "       [5, 6, 7, 0, 6, 7]])"
      ]
     },
     "execution_count": 106,
     "metadata": {},
     "output_type": "execute_result"
    }
   ],
   "source": [
    "# CONCATENATE COLUMN WISE (c_) = COLUMN \n",
    "np.c_[a,b]\n"
   ]
  },
  {
   "cell_type": "markdown",
   "id": "832b3407",
   "metadata": {},
   "source": [
    "# SPLITTING ARRAY"
   ]
  },
  {
   "cell_type": "code",
   "execution_count": 107,
   "id": "8a7bc98c",
   "metadata": {},
   "outputs": [
    {
     "data": {
      "text/plain": [
       "[array([1, 9, 9]), array([7, 1, 2, 3])]"
      ]
     },
     "execution_count": 107,
     "metadata": {},
     "output_type": "execute_result"
    }
   ],
   "source": [
    "# BREAKING ARRAY IN TO TWO PARTS \n",
    "x = np.array([1,9,9,7,1,2,3])\n",
    "np.split(x,[3])"
   ]
  },
  {
   "cell_type": "code",
   "execution_count": 108,
   "id": "d5f257a1",
   "metadata": {},
   "outputs": [
    {
     "data": {
      "text/plain": [
       "[array([1, 9, 9]), array([7, 1]), array([2, 3])]"
      ]
     },
     "execution_count": 108,
     "metadata": {},
     "output_type": "execute_result"
    }
   ],
   "source": [
    "# BREAKING ARRAY IN TO THREE PARTS \n",
    "x = np.array([1,9,9,7,1,2,3])\n",
    "np.split(x,[3,5])"
   ]
  },
  {
   "cell_type": "code",
   "execution_count": 113,
   "id": "93f4db73",
   "metadata": {},
   "outputs": [
    {
     "name": "stdout",
     "output_type": "stream",
     "text": [
      "[0 2 4 6]\n"
     ]
    },
    {
     "data": {
      "text/plain": [
       "[array([], dtype=int32),\n",
       " array([1, 9]),\n",
       " array([9, 7]),\n",
       " array([1, 2]),\n",
       " array([3])]"
      ]
     },
     "execution_count": 113,
     "metadata": {},
     "output_type": "execute_result"
    }
   ],
   "source": [
    "# BREAKING BY USING SLICING METHOD\n",
    "l = np.arange(0,7,2)\n",
    "print(l)  # these are the splitting points\n",
    "np.split(x,l)\n"
   ]
  },
  {
   "cell_type": "code",
   "execution_count": 115,
   "id": "d0d422db",
   "metadata": {},
   "outputs": [
    {
     "data": {
      "text/plain": [
       "array([[1, 3],\n",
       "       [2, 4]])"
      ]
     },
     "execution_count": 115,
     "metadata": {},
     "output_type": "execute_result"
    }
   ],
   "source": [
    "x = np.array([[1,3],[2,4]])\n",
    "x"
   ]
  },
  {
   "cell_type": "code",
   "execution_count": 116,
   "id": "c5213b3b",
   "metadata": {},
   "outputs": [
    {
     "data": {
      "text/plain": [
       "[array([[1, 3]]), array([[2, 4]])]"
      ]
     },
     "execution_count": 116,
     "metadata": {},
     "output_type": "execute_result"
    }
   ],
   "source": [
    "np.split(x,[1]) #  1 means row number 1 "
   ]
  },
  {
   "cell_type": "code",
   "execution_count": null,
   "id": "7b1ebbed",
   "metadata": {},
   "outputs": [],
   "source": []
  }
 ],
 "metadata": {
  "kernelspec": {
   "display_name": "Python 3 (ipykernel)",
   "language": "python",
   "name": "python3"
  },
  "language_info": {
   "codemirror_mode": {
    "name": "ipython",
    "version": 3
   },
   "file_extension": ".py",
   "mimetype": "text/x-python",
   "name": "python",
   "nbconvert_exporter": "python",
   "pygments_lexer": "ipython3",
   "version": "3.9.12"
  }
 },
 "nbformat": 4,
 "nbformat_minor": 5
}
