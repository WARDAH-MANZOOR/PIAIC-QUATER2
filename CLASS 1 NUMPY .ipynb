{
 "cells": [
  {
   "cell_type": "markdown",
   "id": "aa673ba3",
   "metadata": {},
   "source": [
    "# COMPARISON BETWWEN NUMPY ARRAY AND PYTHON LIST"
   ]
  },
  {
   "cell_type": "code",
   "execution_count": 1,
   "id": "27814c15",
   "metadata": {},
   "outputs": [
    {
     "name": "stdout",
     "output_type": "stream",
     "text": [
      "CPU times: total: 938 ms\n",
      "Wall time: 931 ms\n"
     ]
    }
   ],
   "source": [
    "# PYTHON LIST \n",
    "python_list = range(1000000)\n",
    "%time for i in range(10):results=[i*5 for i in python_list]"
   ]
  },
  {
   "cell_type": "code",
   "execution_count": 2,
   "id": "1539c11f",
   "metadata": {},
   "outputs": [
    {
     "name": "stdout",
     "output_type": "stream",
     "text": [
      "CPU times: total: 15.6 ms\n",
      "Wall time: 26 ms\n"
     ]
    }
   ],
   "source": [
    "# NUMPY ARRAY\n",
    "import numpy as np \n",
    "numpy_array = np.arange(1000000)\n",
    "%time for i in range(10):results=numpy_array*5 "
   ]
  },
  {
   "cell_type": "markdown",
   "id": "32f0b5f1",
   "metadata": {},
   "source": [
    "********       SO THE NUMPY ARRAY IS MORE EFFICIENT IN TIME THAN PYTHON LIST \n",
    "BECAUSE PYTHON LIST TAKES 853 MS FOR\n",
    "EXECUTION AND NUMPY ARRAY TAKES 18.2 MS       *********\n",
    "    "
   ]
  },
  {
   "cell_type": "markdown",
   "id": "1851ce3c",
   "metadata": {},
   "source": [
    "# NUMPY ARRAY CREATION METHODS "
   ]
  },
  {
   "cell_type": "code",
   "execution_count": 3,
   "id": "c748328c",
   "metadata": {},
   "outputs": [
    {
     "data": {
      "text/plain": [
       "array([0., 0., 0., 0., 0., 0., 0., 0., 0., 0.])"
      ]
     },
     "execution_count": 3,
     "metadata": {},
     "output_type": "execute_result"
    }
   ],
   "source": [
    "# 1D ARRAY  HAVING ONLY ZEROS\n",
    "one_d_array = np.zeros((10))\n",
    "one_d_array"
   ]
  },
  {
   "cell_type": "code",
   "execution_count": 4,
   "id": "c6a356e7",
   "metadata": {},
   "outputs": [
    {
     "data": {
      "text/plain": [
       "array([1., 1., 1., 1., 1., 1., 1., 1., 1., 1.])"
      ]
     },
     "execution_count": 4,
     "metadata": {},
     "output_type": "execute_result"
    }
   ],
   "source": [
    "# 1D ARRAY  HAVING ONLY ONES\n",
    "one_d_array = np.ones((10))\n",
    "one_d_array"
   ]
  },
  {
   "cell_type": "code",
   "execution_count": 5,
   "id": "e10d9a72",
   "metadata": {},
   "outputs": [
    {
     "data": {
      "text/plain": [
       "array([2., 2., 2., 2., 2., 2., 2., 2., 2., 2.])"
      ]
     },
     "execution_count": 5,
     "metadata": {},
     "output_type": "execute_result"
    }
   ],
   "source": [
    "# 1D ARRAY  HAVING ONLY TWO'S\n",
    "# *********** 1st method *************\n",
    "one_d_array = np.ones((10))\n",
    "one_d_array * 2"
   ]
  },
  {
   "cell_type": "code",
   "execution_count": 6,
   "id": "6f726f58",
   "metadata": {},
   "outputs": [
    {
     "data": {
      "text/plain": [
       "array([2., 2., 2., 2., 2., 2., 2., 2., 2., 2.])"
      ]
     },
     "execution_count": 6,
     "metadata": {},
     "output_type": "execute_result"
    }
   ],
   "source": [
    "# 1D ARRAY  HAVING ONLY TWO'S\n",
    "# *********** 2nd method *************\n",
    "one_d_array = np.zeros((10))\n",
    "one_d_array + 2"
   ]
  },
  {
   "cell_type": "code",
   "execution_count": 7,
   "id": "f13cf02f",
   "metadata": {},
   "outputs": [
    {
     "data": {
      "text/plain": [
       "array([ 1,  2,  3,  4,  5,  6,  7,  8,  9, 10])"
      ]
     },
     "execution_count": 7,
     "metadata": {},
     "output_type": "execute_result"
    }
   ],
   "source": [
    "# 1D ARRAY  HAVING 1 TO 10 VALUES\n",
    "x = np.arange(1,11)\n",
    "x"
   ]
  },
  {
   "cell_type": "code",
   "execution_count": 8,
   "id": "ad05a7dc",
   "metadata": {},
   "outputs": [
    {
     "data": {
      "text/plain": [
       "array([[0., 0., 0., 0., 0.],\n",
       "       [0., 0., 0., 0., 0.],\n",
       "       [0., 0., 0., 0., 0.]])"
      ]
     },
     "execution_count": 8,
     "metadata": {},
     "output_type": "execute_result"
    }
   ],
   "source": [
    "# 2D ARRAY HAVING ZEROS\n",
    "np.zeros((3,5))"
   ]
  },
  {
   "cell_type": "code",
   "execution_count": 9,
   "id": "65d4a33f",
   "metadata": {},
   "outputs": [
    {
     "data": {
      "text/plain": [
       "array([[[0., 0., 0., 0., 0.],\n",
       "        [0., 0., 0., 0., 0.]],\n",
       "\n",
       "       [[0., 0., 0., 0., 0.],\n",
       "        [0., 0., 0., 0., 0.]]])"
      ]
     },
     "execution_count": 9,
     "metadata": {},
     "output_type": "execute_result"
    }
   ],
   "source": [
    "# 3D ARRAY HAVING ZEROS\n",
    "np.zeros((2,2,5))"
   ]
  },
  {
   "cell_type": "code",
   "execution_count": 10,
   "id": "2dc2dbfe",
   "metadata": {},
   "outputs": [
    {
     "data": {
      "text/plain": [
       "array([[[[0., 0., 0.],\n",
       "         [0., 0., 0.],\n",
       "         [0., 0., 0.],\n",
       "         [0., 0., 0.],\n",
       "         [0., 0., 0.]],\n",
       "\n",
       "        [[0., 0., 0.],\n",
       "         [0., 0., 0.],\n",
       "         [0., 0., 0.],\n",
       "         [0., 0., 0.],\n",
       "         [0., 0., 0.]]],\n",
       "\n",
       "\n",
       "       [[[0., 0., 0.],\n",
       "         [0., 0., 0.],\n",
       "         [0., 0., 0.],\n",
       "         [0., 0., 0.],\n",
       "         [0., 0., 0.]],\n",
       "\n",
       "        [[0., 0., 0.],\n",
       "         [0., 0., 0.],\n",
       "         [0., 0., 0.],\n",
       "         [0., 0., 0.],\n",
       "         [0., 0., 0.]]]])"
      ]
     },
     "execution_count": 10,
     "metadata": {},
     "output_type": "execute_result"
    }
   ],
   "source": [
    "# 4D ARRAY HAVING ZEROS\n",
    "np.zeros((2,2,5,3)) "
   ]
  },
  {
   "cell_type": "code",
   "execution_count": 11,
   "id": "3eb9347c",
   "metadata": {},
   "outputs": [
    {
     "data": {
      "text/plain": [
       "array([[[5., 5., 5., 5., 5.],\n",
       "        [5., 5., 5., 5., 5.]],\n",
       "\n",
       "       [[5., 5., 5., 5., 5.],\n",
       "        [5., 5., 5., 5., 5.]],\n",
       "\n",
       "       [[5., 5., 5., 5., 5.],\n",
       "        [5., 5., 5., 5., 5.]]])"
      ]
     },
     "execution_count": 11,
     "metadata": {},
     "output_type": "execute_result"
    }
   ],
   "source": [
    "# 3D ARRAY HAVING FIVE'S ONLY \n",
    "np.zeros((3,2,5)) +5"
   ]
  },
  {
   "cell_type": "code",
   "execution_count": 12,
   "id": "72dfe909",
   "metadata": {},
   "outputs": [
    {
     "data": {
      "text/plain": [
       "array([ 1,  3,  7,  9, 10, 16, 78, 18])"
      ]
     },
     "execution_count": 12,
     "metadata": {},
     "output_type": "execute_result"
    }
   ],
   "source": [
    "x = np.array([1,3,7,9,10,16,78,18])\n",
    "x"
   ]
  },
  {
   "cell_type": "code",
   "execution_count": 13,
   "id": "2ea69853",
   "metadata": {},
   "outputs": [
    {
     "data": {
      "text/plain": [
       "(8,)"
      ]
     },
     "execution_count": 13,
     "metadata": {},
     "output_type": "execute_result"
    }
   ],
   "source": [
    "x.shape"
   ]
  },
  {
   "cell_type": "code",
   "execution_count": 14,
   "id": "0a1dad08",
   "metadata": {},
   "outputs": [
    {
     "data": {
      "text/plain": [
       "array([[ 1,  3,  7,  9],\n",
       "       [10, 16, 78, 18]])"
      ]
     },
     "execution_count": 14,
     "metadata": {},
     "output_type": "execute_result"
    }
   ],
   "source": [
    "x.reshape((2,4))"
   ]
  },
  {
   "cell_type": "code",
   "execution_count": 15,
   "id": "97dc1f93",
   "metadata": {},
   "outputs": [
    {
     "data": {
      "text/plain": [
       "array([[ 1,  3,  7,  9],\n",
       "       [10, 16, 78, 18]])"
      ]
     },
     "execution_count": 15,
     "metadata": {},
     "output_type": "execute_result"
    }
   ],
   "source": [
    "y = x.reshape((2,4))\n",
    "y"
   ]
  },
  {
   "cell_type": "code",
   "execution_count": 16,
   "id": "943a86e7",
   "metadata": {},
   "outputs": [
    {
     "data": {
      "text/plain": [
       "2"
      ]
     },
     "execution_count": 16,
     "metadata": {},
     "output_type": "execute_result"
    }
   ],
   "source": [
    "y.ndim"
   ]
  },
  {
   "cell_type": "markdown",
   "id": "0fd97059",
   "metadata": {},
   "source": [
    "# ACCESSING INDIVIDAL ELEMENTS FROM 2D ARRAY"
   ]
  },
  {
   "cell_type": "code",
   "execution_count": 17,
   "id": "76a7f875",
   "metadata": {},
   "outputs": [
    {
     "data": {
      "text/plain": [
       "9"
      ]
     },
     "execution_count": 17,
     "metadata": {},
     "output_type": "execute_result"
    }
   ],
   "source": [
    "y[0,3]"
   ]
  },
  {
   "cell_type": "code",
   "execution_count": 18,
   "id": "6a0a705e",
   "metadata": {},
   "outputs": [
    {
     "data": {
      "text/plain": [
       "78"
      ]
     },
     "execution_count": 18,
     "metadata": {},
     "output_type": "execute_result"
    }
   ],
   "source": [
    "y[1,2]"
   ]
  },
  {
   "cell_type": "markdown",
   "id": "e29b0204",
   "metadata": {},
   "source": [
    "# ACCESSING INDIVIDAL ELEMENTS FROM 2D ARRAY"
   ]
  },
  {
   "cell_type": "code",
   "execution_count": 19,
   "id": "7a358a96",
   "metadata": {},
   "outputs": [
    {
     "data": {
      "text/plain": [
       "array([[[ 1,  3],\n",
       "        [ 7,  9]],\n",
       "\n",
       "       [[10, 16],\n",
       "        [78, 18]]])"
      ]
     },
     "execution_count": 19,
     "metadata": {},
     "output_type": "execute_result"
    }
   ],
   "source": [
    "z = y.reshape((2,2,2))\n",
    "z"
   ]
  },
  {
   "cell_type": "code",
   "execution_count": 20,
   "id": "d76bf9be",
   "metadata": {},
   "outputs": [
    {
     "data": {
      "text/plain": [
       "9"
      ]
     },
     "execution_count": 20,
     "metadata": {},
     "output_type": "execute_result"
    }
   ],
   "source": [
    "z[0,1,1] # accessing 9 from 3D array"
   ]
  },
  {
   "cell_type": "markdown",
   "id": "b7a91848",
   "metadata": {},
   "source": [
    "# SLICING"
   ]
  },
  {
   "cell_type": "code",
   "execution_count": 21,
   "id": "7e1927a4",
   "metadata": {},
   "outputs": [
    {
     "data": {
      "text/plain": [
       "array([[ 1,  3,  7,  9],\n",
       "       [10, 16, 78, 18]])"
      ]
     },
     "execution_count": 21,
     "metadata": {},
     "output_type": "execute_result"
    }
   ],
   "source": [
    "y"
   ]
  },
  {
   "cell_type": "code",
   "execution_count": 22,
   "id": "6dbeac61",
   "metadata": {},
   "outputs": [
    {
     "data": {
      "text/plain": [
       "array([[ 1,  3],\n",
       "       [ 7,  9],\n",
       "       [10, 16],\n",
       "       [78, 18]])"
      ]
     },
     "execution_count": 22,
     "metadata": {},
     "output_type": "execute_result"
    }
   ],
   "source": [
    "y = y.reshape(4,2)\n",
    "y"
   ]
  },
  {
   "cell_type": "code",
   "execution_count": 23,
   "id": "31048c37",
   "metadata": {},
   "outputs": [
    {
     "data": {
      "text/plain": [
       "array([[ 1,  3],\n",
       "       [ 7,  9],\n",
       "       [10, 16]])"
      ]
     },
     "execution_count": 23,
     "metadata": {},
     "output_type": "execute_result"
    }
   ],
   "source": [
    "y[0:3]"
   ]
  },
  {
   "cell_type": "code",
   "execution_count": 24,
   "id": "54640b78",
   "metadata": {},
   "outputs": [
    {
     "data": {
      "text/plain": [
       "array([[ 1,  3],\n",
       "       [10, 16]])"
      ]
     },
     "execution_count": 24,
     "metadata": {},
     "output_type": "execute_result"
    }
   ],
   "source": [
    "y[::2]\n"
   ]
  },
  {
   "cell_type": "code",
   "execution_count": null,
   "id": "c27e5a8d",
   "metadata": {},
   "outputs": [],
   "source": []
  },
  {
   "cell_type": "markdown",
   "id": "2c89cb19",
   "metadata": {},
   "source": [
    "# SLICING AND INDEXING"
   ]
  },
  {
   "cell_type": "code",
   "execution_count": 25,
   "id": "53821813",
   "metadata": {},
   "outputs": [
    {
     "data": {
      "text/plain": [
       "array([ 3,  9, 16])"
      ]
     },
     "execution_count": 25,
     "metadata": {},
     "output_type": "execute_result"
    }
   ],
   "source": [
    "y[0:3,1]"
   ]
  },
  {
   "cell_type": "code",
   "execution_count": 26,
   "id": "8e99d86c",
   "metadata": {},
   "outputs": [
    {
     "data": {
      "text/plain": [
       "array([ 1,  7, 10, 78])"
      ]
     },
     "execution_count": 26,
     "metadata": {},
     "output_type": "execute_result"
    }
   ],
   "source": [
    "y[::,0]"
   ]
  },
  {
   "cell_type": "markdown",
   "id": "a1ec5eda",
   "metadata": {},
   "source": [
    "# FANCY INDEXING"
   ]
  },
  {
   "cell_type": "code",
   "execution_count": 27,
   "id": "dd6d916f",
   "metadata": {},
   "outputs": [
    {
     "data": {
      "text/plain": [
       "array([ 9, 16])"
      ]
     },
     "execution_count": 27,
     "metadata": {},
     "output_type": "execute_result"
    }
   ],
   "source": [
    "x[[3,5]]"
   ]
  },
  {
   "cell_type": "markdown",
   "id": "062b511f",
   "metadata": {},
   "source": [
    "# VECTORIZED OPERATIONS"
   ]
  },
  {
   "cell_type": "code",
   "execution_count": 28,
   "id": "7d147aa7",
   "metadata": {},
   "outputs": [],
   "source": [
    "x = np.array([1,5,7])\n",
    "y = np.array([3,2,9])"
   ]
  },
  {
   "cell_type": "code",
   "execution_count": 29,
   "id": "148dcbdb",
   "metadata": {},
   "outputs": [
    {
     "data": {
      "text/plain": [
       "array([ 4,  7, 16])"
      ]
     },
     "execution_count": 29,
     "metadata": {},
     "output_type": "execute_result"
    }
   ],
   "source": [
    "x+y"
   ]
  },
  {
   "cell_type": "code",
   "execution_count": 30,
   "id": "31ac20ed",
   "metadata": {},
   "outputs": [
    {
     "data": {
      "text/plain": [
       "array([-2,  3, -2])"
      ]
     },
     "execution_count": 30,
     "metadata": {},
     "output_type": "execute_result"
    }
   ],
   "source": [
    "x-y"
   ]
  },
  {
   "cell_type": "code",
   "execution_count": 31,
   "id": "f7bf19a0",
   "metadata": {},
   "outputs": [
    {
     "data": {
      "text/plain": [
       "array([ 3, 10, 63])"
      ]
     },
     "execution_count": 31,
     "metadata": {},
     "output_type": "execute_result"
    }
   ],
   "source": [
    "x*y"
   ]
  },
  {
   "cell_type": "code",
   "execution_count": 32,
   "id": "4eae4d85",
   "metadata": {},
   "outputs": [
    {
     "data": {
      "text/plain": [
       "array([0.33333333, 2.5       , 0.77777778])"
      ]
     },
     "execution_count": 32,
     "metadata": {},
     "output_type": "execute_result"
    }
   ],
   "source": [
    "x/y"
   ]
  },
  {
   "cell_type": "code",
   "execution_count": 33,
   "id": "bfb52aa0",
   "metadata": {},
   "outputs": [
    {
     "data": {
      "text/plain": [
       "array([1.        , 0.2       , 0.14285714])"
      ]
     },
     "execution_count": 33,
     "metadata": {},
     "output_type": "execute_result"
    }
   ],
   "source": [
    "1/x"
   ]
  },
  {
   "cell_type": "code",
   "execution_count": 34,
   "id": "eaa50ce2",
   "metadata": {},
   "outputs": [
    {
     "data": {
      "text/plain": [
       "array([  9,  20, 567])"
      ]
     },
     "execution_count": 34,
     "metadata": {},
     "output_type": "execute_result"
    }
   ],
   "source": [
    "x*y**2"
   ]
  },
  {
   "cell_type": "markdown",
   "id": "582d1d55",
   "metadata": {},
   "source": [
    "# MAKE THIS SHAPE \n",
    "###### 00000\n",
    "###### 11111\n",
    "###### 11111\n",
    "###### 11111\n",
    "###### 00000\n"
   ]
  },
  {
   "cell_type": "code",
   "execution_count": 35,
   "id": "95e689bf",
   "metadata": {},
   "outputs": [
    {
     "data": {
      "text/plain": [
       "array([[1., 1., 1., 1., 1.],\n",
       "       [1., 1., 1., 1., 1.],\n",
       "       [1., 1., 1., 1., 1.],\n",
       "       [1., 1., 1., 1., 1.],\n",
       "       [1., 1., 1., 1., 1.]])"
      ]
     },
     "execution_count": 35,
     "metadata": {},
     "output_type": "execute_result"
    }
   ],
   "source": [
    "arr = np.ones((5,5))\n",
    "arr"
   ]
  },
  {
   "cell_type": "code",
   "execution_count": 36,
   "id": "878f0532",
   "metadata": {},
   "outputs": [],
   "source": [
    "arr[0]=0\n",
    "arr[-1]=0"
   ]
  },
  {
   "cell_type": "code",
   "execution_count": 37,
   "id": "95a32dab",
   "metadata": {},
   "outputs": [
    {
     "data": {
      "text/plain": [
       "array([[0., 0., 0., 0., 0.],\n",
       "       [1., 1., 1., 1., 1.],\n",
       "       [1., 1., 1., 1., 1.],\n",
       "       [1., 1., 1., 1., 1.],\n",
       "       [0., 0., 0., 0., 0.]])"
      ]
     },
     "execution_count": 37,
     "metadata": {},
     "output_type": "execute_result"
    }
   ],
   "source": [
    "arr"
   ]
  },
  {
   "cell_type": "markdown",
   "id": "eaf739b8",
   "metadata": {},
   "source": [
    "# MAKE THIS SHAPE \n",
    "###### 00000\n",
    "###### 01110\n",
    "###### 01110\n",
    "###### 01110\n",
    "###### 00000"
   ]
  },
  {
   "cell_type": "code",
   "execution_count": 38,
   "id": "4d3d0465",
   "metadata": {},
   "outputs": [
    {
     "data": {
      "text/plain": [
       "array([[0., 0., 0., 0., 0.],\n",
       "       [0., 0., 0., 0., 0.],\n",
       "       [0., 0., 0., 0., 0.],\n",
       "       [0., 0., 0., 0., 0.],\n",
       "       [0., 0., 0., 0., 0.]])"
      ]
     },
     "execution_count": 38,
     "metadata": {},
     "output_type": "execute_result"
    }
   ],
   "source": [
    "arr = np.zeros((5,5))\n",
    "arr"
   ]
  },
  {
   "cell_type": "code",
   "execution_count": 39,
   "id": "f1f25aa8",
   "metadata": {},
   "outputs": [
    {
     "data": {
      "text/plain": [
       "array([[0., 0., 0., 0., 0.],\n",
       "       [0., 1., 1., 1., 0.],\n",
       "       [0., 1., 1., 1., 0.],\n",
       "       [0., 1., 1., 1., 0.],\n",
       "       [0., 0., 0., 0., 0.]])"
      ]
     },
     "execution_count": 39,
     "metadata": {},
     "output_type": "execute_result"
    }
   ],
   "source": [
    "arr[1,1:4]=1\n",
    "arr[2,1:4]=1\n",
    "arr[3,1:4]=1  \n",
    "arr"
   ]
  },
  {
   "cell_type": "code",
   "execution_count": 40,
   "id": "90277b1e",
   "metadata": {},
   "outputs": [
    {
     "data": {
      "text/plain": [
       "array([[0., 0., 0., 0., 0.],\n",
       "       [0., 1., 1., 1., 0.],\n",
       "       [0., 1., 1., 1., 0.],\n",
       "       [0., 1., 1., 1., 0.],\n",
       "       [0., 0., 0., 0., 0.]])"
      ]
     },
     "execution_count": 40,
     "metadata": {},
     "output_type": "execute_result"
    }
   ],
   "source": [
    "arr[1:-1,1:-1]\n",
    "arr"
   ]
  },
  {
   "cell_type": "markdown",
   "id": "0dac7deb",
   "metadata": {},
   "source": [
    "# MAKE THIS SHAPE \n",
    "###### 01010101\n",
    "###### 10101010\n",
    "###### 01010101\n",
    "###### 10101010\n",
    "###### 01010101\n",
    "###### 10101010\n",
    "###### 01010101\n",
    "###### 10101010"
   ]
  },
  {
   "cell_type": "code",
   "execution_count": 64,
   "id": "75ffabb4",
   "metadata": {},
   "outputs": [
    {
     "data": {
      "text/plain": [
       "array([[0., 0., 0., 0., 0., 0., 0., 0.],\n",
       "       [0., 0., 0., 0., 0., 0., 0., 0.],\n",
       "       [0., 0., 0., 0., 0., 0., 0., 0.],\n",
       "       [0., 0., 0., 0., 0., 0., 0., 0.],\n",
       "       [0., 0., 0., 0., 0., 0., 0., 0.],\n",
       "       [0., 0., 0., 0., 0., 0., 0., 0.],\n",
       "       [0., 0., 0., 0., 0., 0., 0., 0.],\n",
       "       [0., 0., 0., 0., 0., 0., 0., 0.]])"
      ]
     },
     "execution_count": 64,
     "metadata": {},
     "output_type": "execute_result"
    }
   ],
   "source": [
    "arr = np.zeros((8,8))\n",
    "arr"
   ]
  },
  {
   "cell_type": "code",
   "execution_count": 66,
   "id": "bf74f908",
   "metadata": {},
   "outputs": [
    {
     "data": {
      "text/plain": [
       "array([[0., 1., 0., 1., 0., 1., 0., 1.],\n",
       "       [1., 0., 1., 0., 1., 0., 1., 0.],\n",
       "       [0., 1., 0., 1., 0., 1., 0., 1.],\n",
       "       [1., 0., 1., 0., 1., 0., 1., 0.],\n",
       "       [0., 1., 0., 1., 0., 1., 0., 1.],\n",
       "       [1., 0., 1., 0., 1., 0., 1., 0.],\n",
       "       [0., 1., 0., 1., 0., 1., 0., 1.],\n",
       "       [1., 0., 1., 0., 1., 0., 1., 0.]])"
      ]
     },
     "execution_count": 66,
     "metadata": {},
     "output_type": "execute_result"
    }
   ],
   "source": [
    "arr[0,::-2]=1\n",
    "arr[2,::-2]=1\n",
    "arr[4,::-2]=1\n",
    "arr[6,::-2]=1\n",
    "arr[1,::2]=1\n",
    "arr[3,::2]=1\n",
    "arr[5,::2]=1\n",
    "arr[7,::2]=1\n",
    "arr"
   ]
  },
  {
   "cell_type": "markdown",
   "id": "3008ea9e",
   "metadata": {},
   "source": [
    "# MAKE THIS SHAPE \n",
    "###### 00000\n",
    "###### 11111\n",
    "###### 00000\n",
    "###### 11111\n",
    "###### 00000\n",
    "###### 11111\n"
   ]
  },
  {
   "cell_type": "code",
   "execution_count": 68,
   "id": "68d55941",
   "metadata": {},
   "outputs": [
    {
     "data": {
      "text/plain": [
       "array([[0., 0., 0., 0., 0.],\n",
       "       [0., 0., 0., 0., 0.],\n",
       "       [0., 0., 0., 0., 0.],\n",
       "       [0., 0., 0., 0., 0.],\n",
       "       [0., 0., 0., 0., 0.],\n",
       "       [0., 0., 0., 0., 0.]])"
      ]
     },
     "execution_count": 68,
     "metadata": {},
     "output_type": "execute_result"
    }
   ],
   "source": [
    "arr = np.zeros((6,5))\n",
    "arr"
   ]
  },
  {
   "cell_type": "code",
   "execution_count": 72,
   "id": "3da02334",
   "metadata": {},
   "outputs": [
    {
     "data": {
      "text/plain": [
       "array([[0., 0., 0., 0., 0.],\n",
       "       [1., 1., 1., 1., 1.],\n",
       "       [0., 0., 0., 0., 0.],\n",
       "       [1., 1., 1., 1., 1.],\n",
       "       [0., 0., 0., 0., 0.],\n",
       "       [1., 1., 1., 1., 1.]])"
      ]
     },
     "execution_count": 72,
     "metadata": {},
     "output_type": "execute_result"
    }
   ],
   "source": [
    "arr[1,::]=1\n",
    "arr[3,::]=1\n",
    "arr[5,::]=1\n",
    "arr"
   ]
  },
  {
   "cell_type": "markdown",
   "id": "6650b889",
   "metadata": {},
   "source": [
    "# MAKE THIS SHAPE \n",
    "###### 01110\n",
    "###### 10101\n",
    "###### 11011\n",
    "###### 10101\n",
    "###### 01110\n"
   ]
  },
  {
   "cell_type": "code",
   "execution_count": 91,
   "id": "36ae727d",
   "metadata": {},
   "outputs": [
    {
     "data": {
      "text/plain": [
       "array([[0., 0., 0., 0., 0.],\n",
       "       [0., 0., 0., 0., 0.],\n",
       "       [0., 0., 0., 0., 0.],\n",
       "       [0., 0., 0., 0., 0.],\n",
       "       [0., 0., 0., 0., 0.]])"
      ]
     },
     "execution_count": 91,
     "metadata": {},
     "output_type": "execute_result"
    }
   ],
   "source": [
    "arr = np.zeros((5,5))\n",
    "arr"
   ]
  },
  {
   "cell_type": "code",
   "execution_count": 92,
   "id": "68a9d233",
   "metadata": {},
   "outputs": [
    {
     "data": {
      "text/plain": [
       "array([[0., 1., 1., 1., 0.],\n",
       "       [1., 0., 1., 0., 1.],\n",
       "       [1., 1., 0., 1., 1.],\n",
       "       [1., 0., 1., 0., 1.],\n",
       "       [0., 1., 1., 1., 0.]])"
      ]
     },
     "execution_count": 92,
     "metadata": {},
     "output_type": "execute_result"
    }
   ],
   "source": [
    "arr[0,1:-1]=1\n",
    "arr[1,::2]=1\n",
    "arr[2,0:2]=1\n",
    "arr[2,3:5]=1\n",
    "arr[3,::2]=1\n",
    "arr[4,1:-1]=1\n",
    "arr"
   ]
  },
  {
   "cell_type": "code",
   "execution_count": 43,
   "id": "d0d70767",
   "metadata": {},
   "outputs": [
    {
     "data": {
      "text/plain": [
       "array([[5., 5., 5., 5., 5.],\n",
       "       [5., 5., 5., 5., 5.],\n",
       "       [5., 5., 5., 5., 5.],\n",
       "       [5., 5., 5., 5., 5.],\n",
       "       [5., 5., 5., 5., 5.],\n",
       "       [5., 5., 5., 5., 5.]])"
      ]
     },
     "execution_count": 43,
     "metadata": {},
     "output_type": "execute_result"
    }
   ],
   "source": [
    "np.empty((6,5))"
   ]
  },
  {
   "cell_type": "markdown",
   "id": "3b599909",
   "metadata": {},
   "source": [
    "# COMPARISON BETWEEN MATRICES"
   ]
  },
  {
   "cell_type": "code",
   "execution_count": 44,
   "id": "4600f3b3",
   "metadata": {},
   "outputs": [
    {
     "data": {
      "text/plain": [
       "array([ True,  True, False, False])"
      ]
     },
     "execution_count": 44,
     "metadata": {},
     "output_type": "execute_result"
    }
   ],
   "source": [
    "salary = np.array([10,25,5,2])\n",
    "salary > 5"
   ]
  },
  {
   "cell_type": "code",
   "execution_count": 45,
   "id": "510294e8",
   "metadata": {},
   "outputs": [
    {
     "data": {
      "text/plain": [
       "array([10, 25])"
      ]
     },
     "execution_count": 45,
     "metadata": {},
     "output_type": "execute_result"
    }
   ],
   "source": [
    "salary = np.array([10,25,5,2])\n",
    "salary [salary > 5]"
   ]
  },
  {
   "cell_type": "markdown",
   "id": "47fba62a",
   "metadata": {},
   "source": [
    "# NUMPY ELEMENT-WISE FUNCTIONS"
   ]
  },
  {
   "cell_type": "code",
   "execution_count": 46,
   "id": "59078bfa",
   "metadata": {},
   "outputs": [
    {
     "data": {
      "text/plain": [
       "array([-0.54402111,  0.91294525,  0.85090352, -0.42818267, -0.85551998,\n",
       "        0.86006941, -0.53657292, -0.8462204 ])"
      ]
     },
     "execution_count": 46,
     "metadata": {},
     "output_type": "execute_result"
    }
   ],
   "source": [
    "nums = [10,20,45,35,67,89,12,23]\n",
    "np.sin(nums)"
   ]
  },
  {
   "cell_type": "code",
   "execution_count": 47,
   "id": "1d3bc9da",
   "metadata": {},
   "outputs": [
    {
     "data": {
      "text/plain": [
       "array([-0.83907153,  0.40808206,  0.52532199, -0.90369221, -0.5177698 ,\n",
       "        0.51017704,  0.84385396, -0.53283302])"
      ]
     },
     "execution_count": 47,
     "metadata": {},
     "output_type": "execute_result"
    }
   ],
   "source": [
    "nums = [10,20,45,35,67,89,12,23]\n",
    "np.cos(nums)"
   ]
  },
  {
   "cell_type": "code",
   "execution_count": 48,
   "id": "01ae8172",
   "metadata": {},
   "outputs": [
    {
     "data": {
      "text/plain": [
       "array([ 0.64836083,  2.23716094,  1.61977519,  0.47381472,  1.65231726,\n",
       "        1.68582537, -0.63585993,  1.58815308])"
      ]
     },
     "execution_count": 48,
     "metadata": {},
     "output_type": "execute_result"
    }
   ],
   "source": [
    "np.tan(nums)"
   ]
  },
  {
   "cell_type": "code",
   "execution_count": 49,
   "id": "6501f994",
   "metadata": {},
   "outputs": [
    {
     "data": {
      "text/plain": [
       "array([3.16227766, 4.47213595, 6.70820393, 5.91607978, 8.18535277,\n",
       "       9.43398113, 3.46410162, 4.79583152])"
      ]
     },
     "execution_count": 49,
     "metadata": {},
     "output_type": "execute_result"
    }
   ],
   "source": [
    "np.sqrt(nums)"
   ]
  },
  {
   "cell_type": "code",
   "execution_count": 50,
   "id": "18da44b9",
   "metadata": {},
   "outputs": [
    {
     "data": {
      "text/plain": [
       "array([ 100,  400, 2025, 1225, 4489, 7921,  144,  529], dtype=int32)"
      ]
     },
     "execution_count": 50,
     "metadata": {},
     "output_type": "execute_result"
    }
   ],
   "source": [
    "np.square(nums)"
   ]
  },
  {
   "cell_type": "code",
   "execution_count": 51,
   "id": "a30a8d5b",
   "metadata": {},
   "outputs": [
    {
     "data": {
      "text/plain": [
       "array([10, 20, 45, 35, 67, 89, 12, 23])"
      ]
     },
     "execution_count": 51,
     "metadata": {},
     "output_type": "execute_result"
    }
   ],
   "source": [
    "np.abs(nums)"
   ]
  },
  {
   "cell_type": "code",
   "execution_count": 52,
   "id": "fed08022",
   "metadata": {},
   "outputs": [
    {
     "data": {
      "text/plain": [
       "array([10., 20., 45., 35., 67., 89., 12., 23.])"
      ]
     },
     "execution_count": 52,
     "metadata": {},
     "output_type": "execute_result"
    }
   ],
   "source": [
    "np.fabs(nums)"
   ]
  },
  {
   "cell_type": "code",
   "execution_count": 53,
   "id": "a4e6cfec",
   "metadata": {},
   "outputs": [
    {
     "data": {
      "text/plain": [
       "array([2.20264658e+04, 4.85165195e+08, 3.49342711e+19, 1.58601345e+15,\n",
       "       1.25236317e+29, 4.48961282e+38, 1.62754791e+05, 9.74480345e+09])"
      ]
     },
     "execution_count": 53,
     "metadata": {},
     "output_type": "execute_result"
    }
   ],
   "source": [
    "np.exp(nums)"
   ]
  },
  {
   "cell_type": "code",
   "execution_count": null,
   "id": "76996fc7",
   "metadata": {},
   "outputs": [],
   "source": []
  }
 ],
 "metadata": {
  "kernelspec": {
   "display_name": "Python 3 (ipykernel)",
   "language": "python",
   "name": "python3"
  },
  "language_info": {
   "codemirror_mode": {
    "name": "ipython",
    "version": 3
   },
   "file_extension": ".py",
   "mimetype": "text/x-python",
   "name": "python",
   "nbconvert_exporter": "python",
   "pygments_lexer": "ipython3",
   "version": "3.9.12"
  }
 },
 "nbformat": 4,
 "nbformat_minor": 5
}
