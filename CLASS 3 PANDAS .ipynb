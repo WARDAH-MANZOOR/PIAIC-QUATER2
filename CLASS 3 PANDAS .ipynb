{
 "cells": [
  {
   "cell_type": "markdown",
   "id": "87b36874",
   "metadata": {},
   "source": [
    "# PANDAS DATA STRUCTURES \n",
    "###### 1. SERIES ----> A SERIES OF DATA(1 DIMENSIONAL)\n",
    "###### 2. DATAFRAMES ----> TABULAR DATA(2 DIMENSIONAL)"
   ]
  },
  {
   "cell_type": "code",
   "execution_count": 1,
   "id": "f5010722",
   "metadata": {},
   "outputs": [],
   "source": [
    "import pandas as pd"
   ]
  },
  {
   "cell_type": "markdown",
   "id": "04c668ce",
   "metadata": {},
   "source": [
    "## SERIES"
   ]
  },
  {
   "cell_type": "code",
   "execution_count": 2,
   "id": "7cfef100",
   "metadata": {},
   "outputs": [
    {
     "data": {
      "text/plain": [
       "0    80\n",
       "1    70\n",
       "2    60\n",
       "dtype: int64"
      ]
     },
     "execution_count": 2,
     "metadata": {},
     "output_type": "execute_result"
    }
   ],
   "source": [
    "marks = pd.Series([80,70,60])\n",
    "marks"
   ]
  },
  {
   "cell_type": "code",
   "execution_count": 3,
   "id": "0011af35",
   "metadata": {},
   "outputs": [
    {
     "data": {
      "text/plain": [
       "70"
      ]
     },
     "execution_count": 3,
     "metadata": {},
     "output_type": "execute_result"
    }
   ],
   "source": [
    "marks[1]"
   ]
  },
  {
   "cell_type": "code",
   "execution_count": 4,
   "id": "b6aebb32",
   "metadata": {},
   "outputs": [
    {
     "data": {
      "text/plain": [
       "ali      80\n",
       "sara     70\n",
       "ahmed    60\n",
       "dtype: int64"
      ]
     },
     "execution_count": 4,
     "metadata": {},
     "output_type": "execute_result"
    }
   ],
   "source": [
    "# specifying indexes\n",
    "marks = pd.Series([80,70,60],index = ['ali','sara','ahmed'])\n",
    "marks"
   ]
  },
  {
   "cell_type": "code",
   "execution_count": 5,
   "id": "ebc13e5a",
   "metadata": {},
   "outputs": [
    {
     "data": {
      "text/plain": [
       "80"
      ]
     },
     "execution_count": 5,
     "metadata": {},
     "output_type": "execute_result"
    }
   ],
   "source": [
    "marks['ali']"
   ]
  },
  {
   "cell_type": "code",
   "execution_count": 6,
   "id": "20c69029",
   "metadata": {},
   "outputs": [
    {
     "data": {
      "text/plain": [
       "ali      80.0\n",
       "sara     70.0\n",
       "ahmed    60.0\n",
       "dtype: float64"
      ]
     },
     "execution_count": 6,
     "metadata": {},
     "output_type": "execute_result"
    }
   ],
   "source": [
    "# specifying datatype\n",
    "age = pd.Series([80,70,60],index = ['ali','sara','ahmed'],dtype = float)\n",
    "age"
   ]
  },
  {
   "cell_type": "code",
   "execution_count": 7,
   "id": "b986e0da",
   "metadata": {},
   "outputs": [
    {
     "data": {
      "text/plain": [
       "ali    80.0\n",
       "dtype: float64"
      ]
     },
     "execution_count": 7,
     "metadata": {},
     "output_type": "execute_result"
    }
   ],
   "source": [
    "# filtering\n",
    "age[age>70]"
   ]
  },
  {
   "cell_type": "code",
   "execution_count": 8,
   "id": "a5d696a9",
   "metadata": {},
   "outputs": [
    {
     "data": {
      "text/plain": [
       "sara    70.0\n",
       "ali     80.0\n",
       "dtype: float64"
      ]
     },
     "execution_count": 8,
     "metadata": {},
     "output_type": "execute_result"
    }
   ],
   "source": [
    "# fancy indexing\n",
    "age[['sara','ali']]"
   ]
  },
  {
   "cell_type": "code",
   "execution_count": 9,
   "id": "3673f210",
   "metadata": {},
   "outputs": [
    {
     "data": {
      "text/plain": [
       "ali      80.0\n",
       "sara     18.0\n",
       "ahmed    60.0\n",
       "dtype: float64"
      ]
     },
     "execution_count": 9,
     "metadata": {},
     "output_type": "execute_result"
    }
   ],
   "source": [
    "# changing a value\n",
    "age['sara'] = 18\n",
    "age"
   ]
  },
  {
   "cell_type": "code",
   "execution_count": 10,
   "id": "eaec8747",
   "metadata": {},
   "outputs": [
    {
     "data": {
      "text/plain": [
       "ali      80\n",
       "sara     70\n",
       "ahmed    60\n",
       "dtype: int64"
      ]
     },
     "execution_count": 10,
     "metadata": {},
     "output_type": "execute_result"
    }
   ],
   "source": [
    "# creating series from dictionary\n",
    "age = pd.Series({'ali':80,'sara':70,'ahmed':60})\n",
    "age"
   ]
  },
  {
   "cell_type": "code",
   "execution_count": 11,
   "id": "e64cfeb3",
   "metadata": {},
   "outputs": [
    {
     "data": {
      "text/plain": [
       "ali      80.0\n",
       "sara     70.0\n",
       "ahmed     NaN\n",
       "dtype: float64"
      ]
     },
     "execution_count": 11,
     "metadata": {},
     "output_type": "execute_result"
    }
   ],
   "source": [
    "# checking null value\n",
    "age = pd.Series({'ali':80,'sara':70,'ahmed':None})\n",
    "age"
   ]
  },
  {
   "cell_type": "code",
   "execution_count": 12,
   "id": "f2240bbd",
   "metadata": {},
   "outputs": [
    {
     "data": {
      "text/plain": [
       "ali      False\n",
       "sara     False\n",
       "ahmed     True\n",
       "dtype: bool"
      ]
     },
     "execution_count": 12,
     "metadata": {},
     "output_type": "execute_result"
    }
   ],
   "source": [
    "pd.isnull(age)"
   ]
  },
  {
   "cell_type": "code",
   "execution_count": 13,
   "id": "82097507",
   "metadata": {},
   "outputs": [
    {
     "data": {
      "text/plain": [
       "75.0"
      ]
     },
     "execution_count": 13,
     "metadata": {},
     "output_type": "execute_result"
    }
   ],
   "source": [
    "age.mean()"
   ]
  },
  {
   "cell_type": "code",
   "execution_count": 14,
   "id": "1dc3d933",
   "metadata": {},
   "outputs": [],
   "source": [
    "# adding two series\n",
    "age1 = pd.Series([100,50],index = ['ali','ahmed'])"
   ]
  },
  {
   "cell_type": "code",
   "execution_count": 15,
   "id": "a9a81aa6",
   "metadata": {},
   "outputs": [
    {
     "data": {
      "text/plain": [
       "ali      100\n",
       "ahmed     50\n",
       "dtype: int64"
      ]
     },
     "metadata": {},
     "output_type": "display_data"
    },
    {
     "data": {
      "text/plain": [
       "ali      80.0\n",
       "sara     70.0\n",
       "ahmed     NaN\n",
       "dtype: float64"
      ]
     },
     "metadata": {},
     "output_type": "display_data"
    }
   ],
   "source": [
    "display(age1)\n",
    "display(age)"
   ]
  },
  {
   "cell_type": "code",
   "execution_count": 16,
   "id": "53b4f34a",
   "metadata": {},
   "outputs": [
    {
     "data": {
      "text/plain": [
       "ahmed      NaN\n",
       "ali      180.0\n",
       "sara       NaN\n",
       "dtype: float64"
      ]
     },
     "execution_count": 16,
     "metadata": {},
     "output_type": "execute_result"
    }
   ],
   "source": [
    "s = age + age1\n",
    "s"
   ]
  },
  {
   "cell_type": "markdown",
   "id": "9b1b8424",
   "metadata": {},
   "source": [
    "## DATAFRAMES"
   ]
  },
  {
   "cell_type": "code",
   "execution_count": 17,
   "id": "18c7158a",
   "metadata": {},
   "outputs": [
    {
     "data": {
      "text/html": [
       "<div>\n",
       "<style scoped>\n",
       "    .dataframe tbody tr th:only-of-type {\n",
       "        vertical-align: middle;\n",
       "    }\n",
       "\n",
       "    .dataframe tbody tr th {\n",
       "        vertical-align: top;\n",
       "    }\n",
       "\n",
       "    .dataframe thead th {\n",
       "        text-align: right;\n",
       "    }\n",
       "</style>\n",
       "<table border=\"1\" class=\"dataframe\">\n",
       "  <thead>\n",
       "    <tr style=\"text-align: right;\">\n",
       "      <th></th>\n",
       "      <th>NAMES</th>\n",
       "      <th>AGE</th>\n",
       "      <th>CGPA</th>\n",
       "      <th>ADDRESS</th>\n",
       "    </tr>\n",
       "  </thead>\n",
       "  <tbody>\n",
       "    <tr>\n",
       "      <th>0</th>\n",
       "      <td>SARAH</td>\n",
       "      <td>50</td>\n",
       "      <td>3.4</td>\n",
       "      <td>KARACHI</td>\n",
       "    </tr>\n",
       "    <tr>\n",
       "      <th>1</th>\n",
       "      <td>AHMED</td>\n",
       "      <td>60</td>\n",
       "      <td>2.9</td>\n",
       "      <td>LAHORE</td>\n",
       "    </tr>\n",
       "    <tr>\n",
       "      <th>2</th>\n",
       "      <td>ALI</td>\n",
       "      <td>70</td>\n",
       "      <td>3.6</td>\n",
       "      <td>ISLAMABAD</td>\n",
       "    </tr>\n",
       "  </tbody>\n",
       "</table>\n",
       "</div>"
      ],
      "text/plain": [
       "   NAMES  AGE  CGPA    ADDRESS\n",
       "0  SARAH   50   3.4    KARACHI\n",
       "1  AHMED   60   2.9     LAHORE\n",
       "2    ALI   70   3.6  ISLAMABAD"
      ]
     },
     "execution_count": 17,
     "metadata": {},
     "output_type": "execute_result"
    }
   ],
   "source": [
    "stds = pd.DataFrame({\n",
    "    'NAMES':['SARAH','AHMED','ALI'],\n",
    "    'AGE':[50,60,70],\n",
    "    'CGPA':[3.4,2.9,3.6],\n",
    "    'ADDRESS':['KARACHI','LAHORE','ISLAMABAD']\n",
    "})\n",
    "stds"
   ]
  },
  {
   "cell_type": "code",
   "execution_count": 18,
   "id": "a90ffae6",
   "metadata": {},
   "outputs": [
    {
     "data": {
      "text/plain": [
       "Index(['NAMES', 'AGE', 'CGPA', 'ADDRESS'], dtype='object')"
      ]
     },
     "execution_count": 18,
     "metadata": {},
     "output_type": "execute_result"
    }
   ],
   "source": [
    "stds.columns"
   ]
  },
  {
   "cell_type": "code",
   "execution_count": 19,
   "id": "b6263a90",
   "metadata": {},
   "outputs": [
    {
     "data": {
      "text/plain": [
       "0    SARAH\n",
       "1    AHMED\n",
       "2      ALI\n",
       "Name: NAMES, dtype: object"
      ]
     },
     "execution_count": 19,
     "metadata": {},
     "output_type": "execute_result"
    }
   ],
   "source": [
    "stds['NAMES']"
   ]
  },
  {
   "cell_type": "code",
   "execution_count": 20,
   "id": "225b2714",
   "metadata": {},
   "outputs": [
    {
     "data": {
      "text/html": [
       "<div>\n",
       "<style scoped>\n",
       "    .dataframe tbody tr th:only-of-type {\n",
       "        vertical-align: middle;\n",
       "    }\n",
       "\n",
       "    .dataframe tbody tr th {\n",
       "        vertical-align: top;\n",
       "    }\n",
       "\n",
       "    .dataframe thead th {\n",
       "        text-align: right;\n",
       "    }\n",
       "</style>\n",
       "<table border=\"1\" class=\"dataframe\">\n",
       "  <thead>\n",
       "    <tr style=\"text-align: right;\">\n",
       "      <th></th>\n",
       "      <th>NAMES</th>\n",
       "      <th>AGE</th>\n",
       "      <th>CGPA</th>\n",
       "    </tr>\n",
       "  </thead>\n",
       "  <tbody>\n",
       "    <tr>\n",
       "      <th>0</th>\n",
       "      <td>SARAH</td>\n",
       "      <td>50</td>\n",
       "      <td>3.4</td>\n",
       "    </tr>\n",
       "    <tr>\n",
       "      <th>1</th>\n",
       "      <td>AHMED</td>\n",
       "      <td>60</td>\n",
       "      <td>2.9</td>\n",
       "    </tr>\n",
       "    <tr>\n",
       "      <th>2</th>\n",
       "      <td>ALI</td>\n",
       "      <td>70</td>\n",
       "      <td>3.6</td>\n",
       "    </tr>\n",
       "  </tbody>\n",
       "</table>\n",
       "</div>"
      ],
      "text/plain": [
       "   NAMES  AGE  CGPA\n",
       "0  SARAH   50   3.4\n",
       "1  AHMED   60   2.9\n",
       "2    ALI   70   3.6"
      ]
     },
     "execution_count": 20,
     "metadata": {},
     "output_type": "execute_result"
    }
   ],
   "source": [
    "stds[['NAMES', 'AGE', 'CGPA']]"
   ]
  },
  {
   "cell_type": "code",
   "execution_count": 21,
   "id": "5dcc72d8",
   "metadata": {},
   "outputs": [
    {
     "data": {
      "text/html": [
       "<div>\n",
       "<style scoped>\n",
       "    .dataframe tbody tr th:only-of-type {\n",
       "        vertical-align: middle;\n",
       "    }\n",
       "\n",
       "    .dataframe tbody tr th {\n",
       "        vertical-align: top;\n",
       "    }\n",
       "\n",
       "    .dataframe thead th {\n",
       "        text-align: right;\n",
       "    }\n",
       "</style>\n",
       "<table border=\"1\" class=\"dataframe\">\n",
       "  <thead>\n",
       "    <tr style=\"text-align: right;\">\n",
       "      <th></th>\n",
       "      <th>NAMES</th>\n",
       "      <th>AGE</th>\n",
       "      <th>CGPA</th>\n",
       "      <th>ADDRESS</th>\n",
       "    </tr>\n",
       "  </thead>\n",
       "  <tbody>\n",
       "    <tr>\n",
       "      <th>1</th>\n",
       "      <td>AHMED</td>\n",
       "      <td>60</td>\n",
       "      <td>2.9</td>\n",
       "      <td>LAHORE</td>\n",
       "    </tr>\n",
       "    <tr>\n",
       "      <th>2</th>\n",
       "      <td>ALI</td>\n",
       "      <td>70</td>\n",
       "      <td>3.6</td>\n",
       "      <td>ISLAMABAD</td>\n",
       "    </tr>\n",
       "  </tbody>\n",
       "</table>\n",
       "</div>"
      ],
      "text/plain": [
       "   NAMES  AGE  CGPA    ADDRESS\n",
       "1  AHMED   60   2.9     LAHORE\n",
       "2    ALI   70   3.6  ISLAMABAD"
      ]
     },
     "execution_count": 21,
     "metadata": {},
     "output_type": "execute_result"
    }
   ],
   "source": [
    "stds[stds['AGE']>50]"
   ]
  },
  {
   "cell_type": "code",
   "execution_count": 25,
   "id": "e2e19d3e",
   "metadata": {},
   "outputs": [
    {
     "data": {
      "text/html": [
       "<div>\n",
       "<style scoped>\n",
       "    .dataframe tbody tr th:only-of-type {\n",
       "        vertical-align: middle;\n",
       "    }\n",
       "\n",
       "    .dataframe tbody tr th {\n",
       "        vertical-align: top;\n",
       "    }\n",
       "\n",
       "    .dataframe thead th {\n",
       "        text-align: right;\n",
       "    }\n",
       "</style>\n",
       "<table border=\"1\" class=\"dataframe\">\n",
       "  <thead>\n",
       "    <tr style=\"text-align: right;\">\n",
       "      <th></th>\n",
       "      <th>NAMES</th>\n",
       "      <th>AGE</th>\n",
       "      <th>CGPA</th>\n",
       "      <th>ADDRESS</th>\n",
       "      <th>semester</th>\n",
       "      <th>SEMESTER</th>\n",
       "    </tr>\n",
       "  </thead>\n",
       "  <tbody>\n",
       "    <tr>\n",
       "      <th>0</th>\n",
       "      <td>SARAH</td>\n",
       "      <td>50</td>\n",
       "      <td>3.4</td>\n",
       "      <td>KARACHI</td>\n",
       "      <td>1</td>\n",
       "      <td>1</td>\n",
       "    </tr>\n",
       "    <tr>\n",
       "      <th>1</th>\n",
       "      <td>AHMED</td>\n",
       "      <td>60</td>\n",
       "      <td>2.9</td>\n",
       "      <td>LAHORE</td>\n",
       "      <td>2</td>\n",
       "      <td>2</td>\n",
       "    </tr>\n",
       "    <tr>\n",
       "      <th>2</th>\n",
       "      <td>ALI</td>\n",
       "      <td>70</td>\n",
       "      <td>3.6</td>\n",
       "      <td>ISLAMABAD</td>\n",
       "      <td>3</td>\n",
       "      <td>3</td>\n",
       "    </tr>\n",
       "  </tbody>\n",
       "</table>\n",
       "</div>"
      ],
      "text/plain": [
       "   NAMES  AGE  CGPA    ADDRESS  semester  SEMESTER\n",
       "0  SARAH   50   3.4    KARACHI         1         1\n",
       "1  AHMED   60   2.9     LAHORE         2         2\n",
       "2    ALI   70   3.6  ISLAMABAD         3         3"
      ]
     },
     "execution_count": 25,
     "metadata": {},
     "output_type": "execute_result"
    }
   ],
   "source": [
    "# ADDING COLUMN\n",
    "import numpy as np\n",
    "stds['SEMESTER'] = np.arange(1,4)\n",
    "stds"
   ]
  },
  {
   "cell_type": "code",
   "execution_count": 26,
   "id": "0e7eb951",
   "metadata": {},
   "outputs": [
    {
     "data": {
      "text/html": [
       "<div>\n",
       "<style scoped>\n",
       "    .dataframe tbody tr th:only-of-type {\n",
       "        vertical-align: middle;\n",
       "    }\n",
       "\n",
       "    .dataframe tbody tr th {\n",
       "        vertical-align: top;\n",
       "    }\n",
       "\n",
       "    .dataframe thead th {\n",
       "        text-align: right;\n",
       "    }\n",
       "</style>\n",
       "<table border=\"1\" class=\"dataframe\">\n",
       "  <thead>\n",
       "    <tr style=\"text-align: right;\">\n",
       "      <th></th>\n",
       "      <th>SEMESTER</th>\n",
       "      <th>NAMES</th>\n",
       "    </tr>\n",
       "  </thead>\n",
       "  <tbody>\n",
       "    <tr>\n",
       "      <th>0</th>\n",
       "      <td>1</td>\n",
       "      <td>SARAH</td>\n",
       "    </tr>\n",
       "    <tr>\n",
       "      <th>1</th>\n",
       "      <td>2</td>\n",
       "      <td>AHMED</td>\n",
       "    </tr>\n",
       "    <tr>\n",
       "      <th>2</th>\n",
       "      <td>3</td>\n",
       "      <td>ALI</td>\n",
       "    </tr>\n",
       "  </tbody>\n",
       "</table>\n",
       "</div>"
      ],
      "text/plain": [
       "   SEMESTER  NAMES\n",
       "0         1  SARAH\n",
       "1         2  AHMED\n",
       "2         3    ALI"
      ]
     },
     "execution_count": 26,
     "metadata": {},
     "output_type": "execute_result"
    }
   ],
   "source": [
    "stds[['SEMESTER','NAMES']]"
   ]
  },
  {
   "cell_type": "code",
   "execution_count": 29,
   "id": "1f5c9ba4",
   "metadata": {},
   "outputs": [
    {
     "data": {
      "text/html": [
       "<div>\n",
       "<style scoped>\n",
       "    .dataframe tbody tr th:only-of-type {\n",
       "        vertical-align: middle;\n",
       "    }\n",
       "\n",
       "    .dataframe tbody tr th {\n",
       "        vertical-align: top;\n",
       "    }\n",
       "\n",
       "    .dataframe thead th {\n",
       "        text-align: right;\n",
       "    }\n",
       "</style>\n",
       "<table border=\"1\" class=\"dataframe\">\n",
       "  <thead>\n",
       "    <tr style=\"text-align: right;\">\n",
       "      <th></th>\n",
       "      <th>names</th>\n",
       "      <th>qualification</th>\n",
       "    </tr>\n",
       "  </thead>\n",
       "  <tbody>\n",
       "    <tr>\n",
       "      <th>d1</th>\n",
       "      <td>asad</td>\n",
       "      <td>PhD</td>\n",
       "    </tr>\n",
       "    <tr>\n",
       "      <th>d2</th>\n",
       "      <td>rahim</td>\n",
       "      <td>MS</td>\n",
       "    </tr>\n",
       "  </tbody>\n",
       "</table>\n",
       "</div>"
      ],
      "text/plain": [
       "    names qualification\n",
       "d1   asad           PhD\n",
       "d2  rahim            MS"
      ]
     },
     "execution_count": 29,
     "metadata": {},
     "output_type": "execute_result"
    }
   ],
   "source": [
    "# MAKING INDEX NAMES BY OWN \n",
    "doctors = pd.DataFrame({\n",
    "    'names':['asad','rahim'],\n",
    "    'qualification':['PhD','MS']\n",
    "},index = ['d1','d2'])\n",
    "\n",
    "doctors"
   ]
  },
  {
   "cell_type": "code",
   "execution_count": 38,
   "id": "a5c5e9a0",
   "metadata": {},
   "outputs": [
    {
     "data": {
      "text/html": [
       "<div>\n",
       "<style scoped>\n",
       "    .dataframe tbody tr th:only-of-type {\n",
       "        vertical-align: middle;\n",
       "    }\n",
       "\n",
       "    .dataframe tbody tr th {\n",
       "        vertical-align: top;\n",
       "    }\n",
       "\n",
       "    .dataframe thead th {\n",
       "        text-align: right;\n",
       "    }\n",
       "</style>\n",
       "<table border=\"1\" class=\"dataframe\">\n",
       "  <thead>\n",
       "    <tr style=\"text-align: right;\">\n",
       "      <th></th>\n",
       "      <th>names</th>\n",
       "      <th>qualification</th>\n",
       "      <th>address</th>\n",
       "    </tr>\n",
       "  </thead>\n",
       "  <tbody>\n",
       "    <tr>\n",
       "      <th>d1</th>\n",
       "      <td>asad</td>\n",
       "      <td>PhD</td>\n",
       "      <td>karachi</td>\n",
       "    </tr>\n",
       "    <tr>\n",
       "      <th>d2</th>\n",
       "      <td>rahim</td>\n",
       "      <td>MS</td>\n",
       "      <td>karachi</td>\n",
       "    </tr>\n",
       "  </tbody>\n",
       "</table>\n",
       "</div>"
      ],
      "text/plain": [
       "    names qualification  address\n",
       "d1   asad           PhD  karachi\n",
       "d2  rahim            MS  karachi"
      ]
     },
     "execution_count": 38,
     "metadata": {},
     "output_type": "execute_result"
    }
   ],
   "source": [
    "#adding column without using numpy\n",
    "doctors['address'] = 'karachi'\n",
    "doctors"
   ]
  },
  {
   "cell_type": "code",
   "execution_count": 39,
   "id": "0b3c5963",
   "metadata": {},
   "outputs": [
    {
     "data": {
      "text/plain": [
       "names               asad\n",
       "qualification        PhD\n",
       "address          karachi\n",
       "Name: d1, dtype: object"
      ]
     },
     "execution_count": 39,
     "metadata": {},
     "output_type": "execute_result"
    }
   ],
   "source": [
    "# ACESSING ROW WISE DATA USING INDEX\n",
    "doctors.loc['d1']"
   ]
  },
  {
   "cell_type": "code",
   "execution_count": 40,
   "id": "38485930",
   "metadata": {},
   "outputs": [
    {
     "data": {
      "text/plain": [
       "names               asad\n",
       "qualification        PhD\n",
       "address          karachi\n",
       "Name: d1, dtype: object"
      ]
     },
     "execution_count": 40,
     "metadata": {},
     "output_type": "execute_result"
    }
   ],
   "source": [
    "# ACCESSING ROW WISE DATA USING INDEX LOCATION \n",
    "doctors.iloc[0]"
   ]
  },
  {
   "cell_type": "code",
   "execution_count": 41,
   "id": "bc98d7ec",
   "metadata": {},
   "outputs": [
    {
     "data": {
      "text/html": [
       "<div>\n",
       "<style scoped>\n",
       "    .dataframe tbody tr th:only-of-type {\n",
       "        vertical-align: middle;\n",
       "    }\n",
       "\n",
       "    .dataframe tbody tr th {\n",
       "        vertical-align: top;\n",
       "    }\n",
       "\n",
       "    .dataframe thead th {\n",
       "        text-align: right;\n",
       "    }\n",
       "</style>\n",
       "<table border=\"1\" class=\"dataframe\">\n",
       "  <thead>\n",
       "    <tr style=\"text-align: right;\">\n",
       "      <th></th>\n",
       "      <th>names</th>\n",
       "      <th>qualification</th>\n",
       "    </tr>\n",
       "  </thead>\n",
       "  <tbody>\n",
       "    <tr>\n",
       "      <th>d1</th>\n",
       "      <td>asad</td>\n",
       "      <td>PhD</td>\n",
       "    </tr>\n",
       "    <tr>\n",
       "      <th>d2</th>\n",
       "      <td>rahim</td>\n",
       "      <td>MS</td>\n",
       "    </tr>\n",
       "  </tbody>\n",
       "</table>\n",
       "</div>"
      ],
      "text/plain": [
       "    names qualification\n",
       "d1   asad           PhD\n",
       "d2  rahim            MS"
      ]
     },
     "execution_count": 41,
     "metadata": {},
     "output_type": "execute_result"
    }
   ],
   "source": [
    "# DELETING COLUMN\n",
    "del doctors['address']\n",
    "doctors"
   ]
  },
  {
   "cell_type": "code",
   "execution_count": 42,
   "id": "da32df89",
   "metadata": {},
   "outputs": [
    {
     "data": {
      "text/html": [
       "<div>\n",
       "<style scoped>\n",
       "    .dataframe tbody tr th:only-of-type {\n",
       "        vertical-align: middle;\n",
       "    }\n",
       "\n",
       "    .dataframe tbody tr th {\n",
       "        vertical-align: top;\n",
       "    }\n",
       "\n",
       "    .dataframe thead th {\n",
       "        text-align: right;\n",
       "    }\n",
       "</style>\n",
       "<table border=\"1\" class=\"dataframe\">\n",
       "  <thead>\n",
       "    <tr style=\"text-align: right;\">\n",
       "      <th></th>\n",
       "      <th>qualification</th>\n",
       "    </tr>\n",
       "  </thead>\n",
       "  <tbody>\n",
       "    <tr>\n",
       "      <th>d1</th>\n",
       "      <td>PhD</td>\n",
       "    </tr>\n",
       "    <tr>\n",
       "      <th>d2</th>\n",
       "      <td>MS</td>\n",
       "    </tr>\n",
       "  </tbody>\n",
       "</table>\n",
       "</div>"
      ],
      "text/plain": [
       "   qualification\n",
       "d1           PhD\n",
       "d2            MS"
      ]
     },
     "execution_count": 42,
     "metadata": {},
     "output_type": "execute_result"
    }
   ],
   "source": [
    "# DELETING COLUMN\n",
    "del doctors['names']\n",
    "doctors"
   ]
  },
  {
   "cell_type": "code",
   "execution_count": 44,
   "id": "710b6075",
   "metadata": {},
   "outputs": [
    {
     "data": {
      "text/html": [
       "<div>\n",
       "<style scoped>\n",
       "    .dataframe tbody tr th:only-of-type {\n",
       "        vertical-align: middle;\n",
       "    }\n",
       "\n",
       "    .dataframe tbody tr th {\n",
       "        vertical-align: top;\n",
       "    }\n",
       "\n",
       "    .dataframe thead th {\n",
       "        text-align: right;\n",
       "    }\n",
       "</style>\n",
       "<table border=\"1\" class=\"dataframe\">\n",
       "  <thead>\n",
       "    <tr style=\"text-align: right;\">\n",
       "      <th></th>\n",
       "      <th>qualification</th>\n",
       "      <th>names</th>\n",
       "    </tr>\n",
       "  </thead>\n",
       "  <tbody>\n",
       "    <tr>\n",
       "      <th>d1</th>\n",
       "      <td>PhD</td>\n",
       "      <td>TEST</td>\n",
       "    </tr>\n",
       "    <tr>\n",
       "      <th>d2</th>\n",
       "      <td>MS</td>\n",
       "      <td>TEST</td>\n",
       "    </tr>\n",
       "  </tbody>\n",
       "</table>\n",
       "</div>"
      ],
      "text/plain": [
       "   qualification names\n",
       "d1           PhD  TEST\n",
       "d2            MS  TEST"
      ]
     },
     "execution_count": 44,
     "metadata": {},
     "output_type": "execute_result"
    }
   ],
   "source": [
    "doctors['names'] = 'TEST'\n",
    "doctors"
   ]
  },
  {
   "cell_type": "code",
   "execution_count": 45,
   "id": "b87fd87b",
   "metadata": {},
   "outputs": [
    {
     "data": {
      "text/html": [
       "<div>\n",
       "<style scoped>\n",
       "    .dataframe tbody tr th:only-of-type {\n",
       "        vertical-align: middle;\n",
       "    }\n",
       "\n",
       "    .dataframe tbody tr th {\n",
       "        vertical-align: top;\n",
       "    }\n",
       "\n",
       "    .dataframe thead th {\n",
       "        text-align: right;\n",
       "    }\n",
       "</style>\n",
       "<table border=\"1\" class=\"dataframe\">\n",
       "  <thead>\n",
       "    <tr style=\"text-align: right;\">\n",
       "      <th></th>\n",
       "      <th>NAMES</th>\n",
       "      <th>AGE</th>\n",
       "      <th>CGPA</th>\n",
       "      <th>ADDRESS</th>\n",
       "      <th>semester</th>\n",
       "      <th>SEMESTER</th>\n",
       "    </tr>\n",
       "  </thead>\n",
       "  <tbody>\n",
       "    <tr>\n",
       "      <th>0</th>\n",
       "      <td>SARAH</td>\n",
       "      <td>50</td>\n",
       "      <td>3.4</td>\n",
       "      <td>KARACHI</td>\n",
       "      <td>1</td>\n",
       "      <td>1</td>\n",
       "    </tr>\n",
       "    <tr>\n",
       "      <th>1</th>\n",
       "      <td>AHMED</td>\n",
       "      <td>60</td>\n",
       "      <td>2.9</td>\n",
       "      <td>LAHORE</td>\n",
       "      <td>2</td>\n",
       "      <td>2</td>\n",
       "    </tr>\n",
       "    <tr>\n",
       "      <th>2</th>\n",
       "      <td>ALI</td>\n",
       "      <td>70</td>\n",
       "      <td>3.6</td>\n",
       "      <td>ISLAMABAD</td>\n",
       "      <td>3</td>\n",
       "      <td>3</td>\n",
       "    </tr>\n",
       "  </tbody>\n",
       "</table>\n",
       "</div>"
      ],
      "text/plain": [
       "   NAMES  AGE  CGPA    ADDRESS  semester  SEMESTER\n",
       "0  SARAH   50   3.4    KARACHI         1         1\n",
       "1  AHMED   60   2.9     LAHORE         2         2\n",
       "2    ALI   70   3.6  ISLAMABAD         3         3"
      ]
     },
     "execution_count": 45,
     "metadata": {},
     "output_type": "execute_result"
    }
   ],
   "source": [
    "stds"
   ]
  },
  {
   "cell_type": "code",
   "execution_count": 46,
   "id": "2dcb0d26",
   "metadata": {},
   "outputs": [
    {
     "data": {
      "text/html": [
       "<div>\n",
       "<style scoped>\n",
       "    .dataframe tbody tr th:only-of-type {\n",
       "        vertical-align: middle;\n",
       "    }\n",
       "\n",
       "    .dataframe tbody tr th {\n",
       "        vertical-align: top;\n",
       "    }\n",
       "\n",
       "    .dataframe thead th {\n",
       "        text-align: right;\n",
       "    }\n",
       "</style>\n",
       "<table border=\"1\" class=\"dataframe\">\n",
       "  <thead>\n",
       "    <tr style=\"text-align: right;\">\n",
       "      <th></th>\n",
       "      <th>0</th>\n",
       "      <th>1</th>\n",
       "      <th>2</th>\n",
       "    </tr>\n",
       "  </thead>\n",
       "  <tbody>\n",
       "    <tr>\n",
       "      <th>NAMES</th>\n",
       "      <td>SARAH</td>\n",
       "      <td>AHMED</td>\n",
       "      <td>ALI</td>\n",
       "    </tr>\n",
       "    <tr>\n",
       "      <th>AGE</th>\n",
       "      <td>50</td>\n",
       "      <td>60</td>\n",
       "      <td>70</td>\n",
       "    </tr>\n",
       "    <tr>\n",
       "      <th>CGPA</th>\n",
       "      <td>3.4</td>\n",
       "      <td>2.9</td>\n",
       "      <td>3.6</td>\n",
       "    </tr>\n",
       "    <tr>\n",
       "      <th>ADDRESS</th>\n",
       "      <td>KARACHI</td>\n",
       "      <td>LAHORE</td>\n",
       "      <td>ISLAMABAD</td>\n",
       "    </tr>\n",
       "    <tr>\n",
       "      <th>semester</th>\n",
       "      <td>1</td>\n",
       "      <td>2</td>\n",
       "      <td>3</td>\n",
       "    </tr>\n",
       "    <tr>\n",
       "      <th>SEMESTER</th>\n",
       "      <td>1</td>\n",
       "      <td>2</td>\n",
       "      <td>3</td>\n",
       "    </tr>\n",
       "  </tbody>\n",
       "</table>\n",
       "</div>"
      ],
      "text/plain": [
       "                0       1          2\n",
       "NAMES       SARAH   AHMED        ALI\n",
       "AGE            50      60         70\n",
       "CGPA          3.4     2.9        3.6\n",
       "ADDRESS   KARACHI  LAHORE  ISLAMABAD\n",
       "semester        1       2          3\n",
       "SEMESTER        1       2          3"
      ]
     },
     "execution_count": 46,
     "metadata": {},
     "output_type": "execute_result"
    }
   ],
   "source": [
    "# TRANSPOSE\n",
    "stds.T"
   ]
  },
  {
   "cell_type": "code",
   "execution_count": 47,
   "id": "d2f14d5e",
   "metadata": {},
   "outputs": [
    {
     "data": {
      "text/html": [
       "<div>\n",
       "<style scoped>\n",
       "    .dataframe tbody tr th:only-of-type {\n",
       "        vertical-align: middle;\n",
       "    }\n",
       "\n",
       "    .dataframe tbody tr th {\n",
       "        vertical-align: top;\n",
       "    }\n",
       "\n",
       "    .dataframe thead th {\n",
       "        text-align: right;\n",
       "    }\n",
       "</style>\n",
       "<table border=\"1\" class=\"dataframe\">\n",
       "  <thead>\n",
       "    <tr style=\"text-align: right;\">\n",
       "      <th></th>\n",
       "      <th>NAMES</th>\n",
       "      <th>AGE</th>\n",
       "      <th>CGPA</th>\n",
       "      <th>ADDRESS</th>\n",
       "      <th>semester</th>\n",
       "      <th>SEMESTER</th>\n",
       "    </tr>\n",
       "  </thead>\n",
       "  <tbody>\n",
       "    <tr>\n",
       "      <th>0</th>\n",
       "      <td>SARAH</td>\n",
       "      <td>50</td>\n",
       "      <td>3.4</td>\n",
       "      <td>KARACHI</td>\n",
       "      <td>1</td>\n",
       "      <td>1</td>\n",
       "    </tr>\n",
       "    <tr>\n",
       "      <th>2</th>\n",
       "      <td>ALI</td>\n",
       "      <td>70</td>\n",
       "      <td>3.6</td>\n",
       "      <td>ISLAMABAD</td>\n",
       "      <td>3</td>\n",
       "      <td>3</td>\n",
       "    </tr>\n",
       "  </tbody>\n",
       "</table>\n",
       "</div>"
      ],
      "text/plain": [
       "   NAMES  AGE  CGPA    ADDRESS  semester  SEMESTER\n",
       "0  SARAH   50   3.4    KARACHI         1         1\n",
       "2    ALI   70   3.6  ISLAMABAD         3         3"
      ]
     },
     "execution_count": 47,
     "metadata": {},
     "output_type": "execute_result"
    }
   ],
   "source": [
    "# SLICING IN A DATAFRAME\n",
    "stds.iloc[::2]"
   ]
  },
  {
   "cell_type": "code",
   "execution_count": 48,
   "id": "a1ce8099",
   "metadata": {},
   "outputs": [
    {
     "data": {
      "text/plain": [
       "NAMES             ALI\n",
       "AGE                70\n",
       "CGPA              3.6\n",
       "ADDRESS     ISLAMABAD\n",
       "semester            3\n",
       "SEMESTER            3\n",
       "Name: 2, dtype: object"
      ]
     },
     "execution_count": 48,
     "metadata": {},
     "output_type": "execute_result"
    }
   ],
   "source": [
    "# SLICING IN A DATAFRAME\n",
    "stds.iloc[-1]"
   ]
  },
  {
   "cell_type": "code",
   "execution_count": 59,
   "id": "c7e1d5cb",
   "metadata": {},
   "outputs": [
    {
     "data": {
      "text/html": [
       "<div>\n",
       "<style scoped>\n",
       "    .dataframe tbody tr th:only-of-type {\n",
       "        vertical-align: middle;\n",
       "    }\n",
       "\n",
       "    .dataframe tbody tr th {\n",
       "        vertical-align: top;\n",
       "    }\n",
       "\n",
       "    .dataframe thead th {\n",
       "        text-align: right;\n",
       "    }\n",
       "</style>\n",
       "<table border=\"1\" class=\"dataframe\">\n",
       "  <thead>\n",
       "    <tr style=\"text-align: right;\">\n",
       "      <th></th>\n",
       "      <th>NAMES</th>\n",
       "      <th>AGE</th>\n",
       "      <th>CGPA</th>\n",
       "      <th>ADDRESS</th>\n",
       "      <th>semester</th>\n",
       "      <th>SEMESTER</th>\n",
       "    </tr>\n",
       "  </thead>\n",
       "  <tbody>\n",
       "    <tr>\n",
       "      <th>0</th>\n",
       "      <td>SARAH</td>\n",
       "      <td>50</td>\n",
       "      <td>3.4</td>\n",
       "      <td>KARACHI</td>\n",
       "      <td>1</td>\n",
       "      <td>1</td>\n",
       "    </tr>\n",
       "    <tr>\n",
       "      <th>1</th>\n",
       "      <td>AHMED</td>\n",
       "      <td>60</td>\n",
       "      <td>2.9</td>\n",
       "      <td>LAHORE</td>\n",
       "      <td>2</td>\n",
       "      <td>2</td>\n",
       "    </tr>\n",
       "  </tbody>\n",
       "</table>\n",
       "</div>"
      ],
      "text/plain": [
       "   NAMES  AGE  CGPA  ADDRESS  semester  SEMESTER\n",
       "0  SARAH   50   3.4  KARACHI         1         1\n",
       "1  AHMED   60   2.9   LAHORE         2         2"
      ]
     },
     "execution_count": 59,
     "metadata": {},
     "output_type": "execute_result"
    }
   ],
   "source": [
    "stds.iloc[:2]"
   ]
  },
  {
   "cell_type": "code",
   "execution_count": 61,
   "id": "737492c5",
   "metadata": {},
   "outputs": [
    {
     "data": {
      "text/html": [
       "<div>\n",
       "<style scoped>\n",
       "    .dataframe tbody tr th:only-of-type {\n",
       "        vertical-align: middle;\n",
       "    }\n",
       "\n",
       "    .dataframe tbody tr th {\n",
       "        vertical-align: top;\n",
       "    }\n",
       "\n",
       "    .dataframe thead th {\n",
       "        text-align: right;\n",
       "    }\n",
       "</style>\n",
       "<table border=\"1\" class=\"dataframe\">\n",
       "  <thead>\n",
       "    <tr style=\"text-align: right;\">\n",
       "      <th></th>\n",
       "      <th>NAMES</th>\n",
       "      <th>AGE</th>\n",
       "    </tr>\n",
       "  </thead>\n",
       "  <tbody>\n",
       "    <tr>\n",
       "      <th>0</th>\n",
       "      <td>SARAH</td>\n",
       "      <td>50</td>\n",
       "    </tr>\n",
       "    <tr>\n",
       "      <th>1</th>\n",
       "      <td>AHMED</td>\n",
       "      <td>60</td>\n",
       "    </tr>\n",
       "    <tr>\n",
       "      <th>2</th>\n",
       "      <td>ALI</td>\n",
       "      <td>70</td>\n",
       "    </tr>\n",
       "  </tbody>\n",
       "</table>\n",
       "</div>"
      ],
      "text/plain": [
       "   NAMES  AGE\n",
       "0  SARAH   50\n",
       "1  AHMED   60\n",
       "2    ALI   70"
      ]
     },
     "execution_count": 61,
     "metadata": {},
     "output_type": "execute_result"
    }
   ],
   "source": [
    "stds.loc[:,'NAMES':'AGE']"
   ]
  },
  {
   "cell_type": "code",
   "execution_count": 49,
   "id": "183be825",
   "metadata": {},
   "outputs": [
    {
     "data": {
      "text/plain": [
       "array([['SARAH', 50, 3.4, 'KARACHI', 1, 1],\n",
       "       ['AHMED', 60, 2.9, 'LAHORE', 2, 2],\n",
       "       ['ALI', 70, 3.6, 'ISLAMABAD', 3, 3]], dtype=object)"
      ]
     },
     "execution_count": 49,
     "metadata": {},
     "output_type": "execute_result"
    }
   ],
   "source": [
    "# GENERATING NUMPY ARRAY BY DATAFRAME\n",
    "stds.values"
   ]
  },
  {
   "cell_type": "code",
   "execution_count": 50,
   "id": "3db6e1f1",
   "metadata": {},
   "outputs": [
    {
     "data": {
      "text/html": [
       "<div>\n",
       "<style scoped>\n",
       "    .dataframe tbody tr th:only-of-type {\n",
       "        vertical-align: middle;\n",
       "    }\n",
       "\n",
       "    .dataframe tbody tr th {\n",
       "        vertical-align: top;\n",
       "    }\n",
       "\n",
       "    .dataframe thead th {\n",
       "        text-align: right;\n",
       "    }\n",
       "</style>\n",
       "<table border=\"1\" class=\"dataframe\">\n",
       "  <thead>\n",
       "    <tr style=\"text-align: right;\">\n",
       "      <th></th>\n",
       "      <th>NAMES</th>\n",
       "      <th>AGE</th>\n",
       "      <th>CGPA</th>\n",
       "      <th>ADDRESS</th>\n",
       "      <th>semester</th>\n",
       "      <th>SEMESTER</th>\n",
       "    </tr>\n",
       "  </thead>\n",
       "  <tbody>\n",
       "    <tr>\n",
       "      <th>1</th>\n",
       "      <td>AHMED</td>\n",
       "      <td>60</td>\n",
       "      <td>2.9</td>\n",
       "      <td>LAHORE</td>\n",
       "      <td>2</td>\n",
       "      <td>2</td>\n",
       "    </tr>\n",
       "    <tr>\n",
       "      <th>2</th>\n",
       "      <td>ALI</td>\n",
       "      <td>70</td>\n",
       "      <td>3.6</td>\n",
       "      <td>ISLAMABAD</td>\n",
       "      <td>3</td>\n",
       "      <td>3</td>\n",
       "    </tr>\n",
       "  </tbody>\n",
       "</table>\n",
       "</div>"
      ],
      "text/plain": [
       "   NAMES  AGE  CGPA    ADDRESS  semester  SEMESTER\n",
       "1  AHMED   60   2.9     LAHORE         2         2\n",
       "2    ALI   70   3.6  ISLAMABAD         3         3"
      ]
     },
     "execution_count": 50,
     "metadata": {},
     "output_type": "execute_result"
    }
   ],
   "source": [
    "# REMOVING ROW\n",
    "stds.drop([0],axis = 0)"
   ]
  },
  {
   "cell_type": "code",
   "execution_count": 51,
   "id": "8aeb7491",
   "metadata": {},
   "outputs": [
    {
     "data": {
      "text/html": [
       "<div>\n",
       "<style scoped>\n",
       "    .dataframe tbody tr th:only-of-type {\n",
       "        vertical-align: middle;\n",
       "    }\n",
       "\n",
       "    .dataframe tbody tr th {\n",
       "        vertical-align: top;\n",
       "    }\n",
       "\n",
       "    .dataframe thead th {\n",
       "        text-align: right;\n",
       "    }\n",
       "</style>\n",
       "<table border=\"1\" class=\"dataframe\">\n",
       "  <thead>\n",
       "    <tr style=\"text-align: right;\">\n",
       "      <th></th>\n",
       "      <th>NAMES</th>\n",
       "      <th>AGE</th>\n",
       "      <th>CGPA</th>\n",
       "      <th>ADDRESS</th>\n",
       "    </tr>\n",
       "  </thead>\n",
       "  <tbody>\n",
       "    <tr>\n",
       "      <th>0</th>\n",
       "      <td>SARAH</td>\n",
       "      <td>50</td>\n",
       "      <td>3.4</td>\n",
       "      <td>KARACHI</td>\n",
       "    </tr>\n",
       "    <tr>\n",
       "      <th>1</th>\n",
       "      <td>AHMED</td>\n",
       "      <td>60</td>\n",
       "      <td>2.9</td>\n",
       "      <td>LAHORE</td>\n",
       "    </tr>\n",
       "    <tr>\n",
       "      <th>2</th>\n",
       "      <td>ALI</td>\n",
       "      <td>70</td>\n",
       "      <td>3.6</td>\n",
       "      <td>ISLAMABAD</td>\n",
       "    </tr>\n",
       "  </tbody>\n",
       "</table>\n",
       "</div>"
      ],
      "text/plain": [
       "   NAMES  AGE  CGPA    ADDRESS\n",
       "0  SARAH   50   3.4    KARACHI\n",
       "1  AHMED   60   2.9     LAHORE\n",
       "2    ALI   70   3.6  ISLAMABAD"
      ]
     },
     "execution_count": 51,
     "metadata": {},
     "output_type": "execute_result"
    }
   ],
   "source": [
    "# REMOVING COLUMN\n",
    "stds.drop(['semester','SEMESTER'],axis = 1)"
   ]
  },
  {
   "cell_type": "markdown",
   "id": "951eea80",
   "metadata": {},
   "source": [
    "#### ACCESSING DATAFRAME WITH DIFFERENT DATA STRUCTURES (ASSIGNMENT)\n"
   ]
  },
  {
   "cell_type": "code",
   "execution_count": 57,
   "id": "545dda32",
   "metadata": {},
   "outputs": [
    {
     "data": {
      "text/html": [
       "<div>\n",
       "<style scoped>\n",
       "    .dataframe tbody tr th:only-of-type {\n",
       "        vertical-align: middle;\n",
       "    }\n",
       "\n",
       "    .dataframe tbody tr th {\n",
       "        vertical-align: top;\n",
       "    }\n",
       "\n",
       "    .dataframe thead th {\n",
       "        text-align: right;\n",
       "    }\n",
       "</style>\n",
       "<table border=\"1\" class=\"dataframe\">\n",
       "  <thead>\n",
       "    <tr style=\"text-align: right;\">\n",
       "      <th></th>\n",
       "      <th>NAME</th>\n",
       "      <th>AGE</th>\n",
       "      <th>CGPA</th>\n",
       "      <th>CITY</th>\n",
       "      <th>SEMESTER</th>\n",
       "    </tr>\n",
       "  </thead>\n",
       "  <tbody>\n",
       "    <tr>\n",
       "      <th>0</th>\n",
       "      <td>SARAH</td>\n",
       "      <td>50</td>\n",
       "      <td>3.4</td>\n",
       "      <td>KARACHI</td>\n",
       "      <td>1</td>\n",
       "    </tr>\n",
       "    <tr>\n",
       "      <th>1</th>\n",
       "      <td>AHMED</td>\n",
       "      <td>60</td>\n",
       "      <td>2.9</td>\n",
       "      <td>LAHORE</td>\n",
       "      <td>2</td>\n",
       "    </tr>\n",
       "    <tr>\n",
       "      <th>2</th>\n",
       "      <td>ALI</td>\n",
       "      <td>70</td>\n",
       "      <td>3.6</td>\n",
       "      <td>ISLAMABAD</td>\n",
       "      <td>3</td>\n",
       "    </tr>\n",
       "    <tr>\n",
       "      <th>3</th>\n",
       "      <td>SHOAIB</td>\n",
       "      <td>37</td>\n",
       "      <td>2.9</td>\n",
       "      <td>PINDI</td>\n",
       "      <td>4</td>\n",
       "    </tr>\n",
       "  </tbody>\n",
       "</table>\n",
       "</div>"
      ],
      "text/plain": [
       "     NAME AGE CGPA       CITY SEMESTER\n",
       "0   SARAH  50  3.4    KARACHI        1\n",
       "1   AHMED  60  2.9     LAHORE        2\n",
       "2     ALI  70  3.6  ISLAMABAD        3\n",
       "3  SHOAIB  37  2.9      PINDI        4"
      ]
     },
     "execution_count": 57,
     "metadata": {},
     "output_type": "execute_result"
    }
   ],
   "source": [
    "# CREATING DATAFRAME USING NUMPY\n",
    "arr = np.array([['SARAH', 50, 3.4, 'KARACHI', 1],\n",
    "       ['AHMED', 60, 2.9, 'LAHORE', 2],\n",
    "       ['ALI', 70, 3.6, 'ISLAMABAD', 3],\n",
    "       ['SHOAIB',37,2.9,'PINDI',4]])\n",
    "df = pd.DataFrame(arr,columns = ['NAME','AGE','CGPA','CITY','SEMESTER'])\n",
    "df"
   ]
  },
  {
   "cell_type": "code",
   "execution_count": 58,
   "id": "416ef94d",
   "metadata": {},
   "outputs": [
    {
     "data": {
      "text/html": [
       "<div>\n",
       "<style scoped>\n",
       "    .dataframe tbody tr th:only-of-type {\n",
       "        vertical-align: middle;\n",
       "    }\n",
       "\n",
       "    .dataframe tbody tr th {\n",
       "        vertical-align: top;\n",
       "    }\n",
       "\n",
       "    .dataframe thead th {\n",
       "        text-align: right;\n",
       "    }\n",
       "</style>\n",
       "<table border=\"1\" class=\"dataframe\">\n",
       "  <thead>\n",
       "    <tr style=\"text-align: right;\">\n",
       "      <th></th>\n",
       "      <th>A</th>\n",
       "      <th>B</th>\n",
       "      <th>C</th>\n",
       "      <th>D</th>\n",
       "      <th>E</th>\n",
       "    </tr>\n",
       "  </thead>\n",
       "  <tbody>\n",
       "    <tr>\n",
       "      <th>0</th>\n",
       "      <td>SARAH</td>\n",
       "      <td>50</td>\n",
       "      <td>3.4</td>\n",
       "      <td>KARACHI</td>\n",
       "      <td>1</td>\n",
       "    </tr>\n",
       "    <tr>\n",
       "      <th>1</th>\n",
       "      <td>AHMED</td>\n",
       "      <td>60</td>\n",
       "      <td>2.9</td>\n",
       "      <td>LAHORE</td>\n",
       "      <td>2</td>\n",
       "    </tr>\n",
       "    <tr>\n",
       "      <th>2</th>\n",
       "      <td>ALI</td>\n",
       "      <td>70</td>\n",
       "      <td>3.6</td>\n",
       "      <td>ISLAMABAD</td>\n",
       "      <td>3</td>\n",
       "    </tr>\n",
       "    <tr>\n",
       "      <th>3</th>\n",
       "      <td>SHOAIB</td>\n",
       "      <td>37</td>\n",
       "      <td>2.9</td>\n",
       "      <td>PINDI</td>\n",
       "      <td>4</td>\n",
       "    </tr>\n",
       "  </tbody>\n",
       "</table>\n",
       "</div>"
      ],
      "text/plain": [
       "        A   B    C          D  E\n",
       "0   SARAH  50  3.4    KARACHI  1\n",
       "1   AHMED  60  2.9     LAHORE  2\n",
       "2     ALI  70  3.6  ISLAMABAD  3\n",
       "3  SHOAIB  37  2.9      PINDI  4"
      ]
     },
     "execution_count": 58,
     "metadata": {},
     "output_type": "execute_result"
    }
   ],
   "source": [
    "# CREATING DATAFRAME USING LIST\n",
    "LIST = ([['SARAH', 50, 3.4, 'KARACHI', 1],\n",
    "       ['AHMED', 60, 2.9, 'LAHORE', 2],\n",
    "       ['ALI', 70, 3.6, 'ISLAMABAD', 3],\n",
    "       ['SHOAIB',37,2.9,'PINDI',4]])\n",
    "df = pd.DataFrame(LIST,columns = ['A','B','C','D','E'])\n",
    "df"
   ]
  },
  {
   "cell_type": "code",
   "execution_count": 92,
   "id": "9366cbcc",
   "metadata": {},
   "outputs": [
    {
     "data": {
      "text/html": [
       "<div>\n",
       "<style scoped>\n",
       "    .dataframe tbody tr th:only-of-type {\n",
       "        vertical-align: middle;\n",
       "    }\n",
       "\n",
       "    .dataframe tbody tr th {\n",
       "        vertical-align: top;\n",
       "    }\n",
       "\n",
       "    .dataframe thead th {\n",
       "        text-align: right;\n",
       "    }\n",
       "</style>\n",
       "<table border=\"1\" class=\"dataframe\">\n",
       "  <thead>\n",
       "    <tr style=\"text-align: right;\">\n",
       "      <th></th>\n",
       "      <th>NAME</th>\n",
       "      <th>AGE</th>\n",
       "      <th>CGPA</th>\n",
       "      <th>CITY</th>\n",
       "      <th>SEMESTER</th>\n",
       "    </tr>\n",
       "  </thead>\n",
       "  <tbody>\n",
       "    <tr>\n",
       "      <th>0</th>\n",
       "      <td>SARAH</td>\n",
       "      <td>50</td>\n",
       "      <td>3.4</td>\n",
       "      <td>KARACHI</td>\n",
       "      <td>1</td>\n",
       "    </tr>\n",
       "    <tr>\n",
       "      <th>1</th>\n",
       "      <td>AHMED</td>\n",
       "      <td>60</td>\n",
       "      <td>2.9</td>\n",
       "      <td>LAHORE</td>\n",
       "      <td>2</td>\n",
       "    </tr>\n",
       "    <tr>\n",
       "      <th>2</th>\n",
       "      <td>ALI</td>\n",
       "      <td>70</td>\n",
       "      <td>3.6</td>\n",
       "      <td>ISLAMABAD</td>\n",
       "      <td>3</td>\n",
       "    </tr>\n",
       "    <tr>\n",
       "      <th>3</th>\n",
       "      <td>SHOAIB</td>\n",
       "      <td>37</td>\n",
       "      <td>2.9</td>\n",
       "      <td>PINDI</td>\n",
       "      <td>4</td>\n",
       "    </tr>\n",
       "  </tbody>\n",
       "</table>\n",
       "</div>"
      ],
      "text/plain": [
       "     NAME  AGE  CGPA       CITY  SEMESTER\n",
       "0   SARAH   50   3.4    KARACHI         1\n",
       "1   AHMED   60   2.9     LAHORE         2\n",
       "2     ALI   70   3.6  ISLAMABAD         3\n",
       "3  SHOAIB   37   2.9      PINDI         4"
      ]
     },
     "execution_count": 92,
     "metadata": {},
     "output_type": "execute_result"
    }
   ],
   "source": [
    "# CREATING DATAFRAME USING TUPLE\n",
    "TUPLE = (('SARAH', 50, 3.4, 'KARACHI', 1),\n",
    "       ('AHMED', 60, 2.9, 'LAHORE', 2),\n",
    "       ('ALI', 70, 3.6, 'ISLAMABAD', 3),\n",
    "       ('SHOAIB',37,2.9,'PINDI',4))\n",
    "df = pd.DataFrame(TUPLE,columns = ['NAME','AGE','CGPA','CITY','SEMESTER'])\n",
    "df"
   ]
  },
  {
   "cell_type": "code",
   "execution_count": null,
   "id": "4fd0adc0",
   "metadata": {},
   "outputs": [],
   "source": []
  },
  {
   "cell_type": "code",
   "execution_count": 62,
   "id": "16b2b6f8",
   "metadata": {},
   "outputs": [],
   "source": [
    "# CHANGING COLUMN NAME \n",
    "df.columns = ['NAMES','AGE','CGPA','CITY','SEMESTER']"
   ]
  },
  {
   "cell_type": "code",
   "execution_count": 64,
   "id": "e3ae9bfe",
   "metadata": {},
   "outputs": [
    {
     "data": {
      "text/html": [
       "<div>\n",
       "<style scoped>\n",
       "    .dataframe tbody tr th:only-of-type {\n",
       "        vertical-align: middle;\n",
       "    }\n",
       "\n",
       "    .dataframe tbody tr th {\n",
       "        vertical-align: top;\n",
       "    }\n",
       "\n",
       "    .dataframe thead th {\n",
       "        text-align: right;\n",
       "    }\n",
       "</style>\n",
       "<table border=\"1\" class=\"dataframe\">\n",
       "  <thead>\n",
       "    <tr style=\"text-align: right;\">\n",
       "      <th></th>\n",
       "      <th>NAMES</th>\n",
       "      <th>AGE</th>\n",
       "      <th>CGPA</th>\n",
       "      <th>CITY</th>\n",
       "      <th>SEMESTER</th>\n",
       "    </tr>\n",
       "  </thead>\n",
       "  <tbody>\n",
       "    <tr>\n",
       "      <th>0</th>\n",
       "      <td>SARAH</td>\n",
       "      <td>50</td>\n",
       "      <td>3.4</td>\n",
       "      <td>KARACHI</td>\n",
       "      <td>1</td>\n",
       "    </tr>\n",
       "    <tr>\n",
       "      <th>1</th>\n",
       "      <td>AHMED</td>\n",
       "      <td>60</td>\n",
       "      <td>2.9</td>\n",
       "      <td>LAHORE</td>\n",
       "      <td>2</td>\n",
       "    </tr>\n",
       "    <tr>\n",
       "      <th>2</th>\n",
       "      <td>ALI</td>\n",
       "      <td>70</td>\n",
       "      <td>3.6</td>\n",
       "      <td>ISLAMABAD</td>\n",
       "      <td>3</td>\n",
       "    </tr>\n",
       "    <tr>\n",
       "      <th>3</th>\n",
       "      <td>SHOAIB</td>\n",
       "      <td>37</td>\n",
       "      <td>2.9</td>\n",
       "      <td>PINDI</td>\n",
       "      <td>4</td>\n",
       "    </tr>\n",
       "  </tbody>\n",
       "</table>\n",
       "</div>"
      ],
      "text/plain": [
       "    NAMES  AGE  CGPA       CITY  SEMESTER\n",
       "0   SARAH   50   3.4    KARACHI         1\n",
       "1   AHMED   60   2.9     LAHORE         2\n",
       "2     ALI   70   3.6  ISLAMABAD         3\n",
       "3  SHOAIB   37   2.9      PINDI         4"
      ]
     },
     "execution_count": 64,
     "metadata": {},
     "output_type": "execute_result"
    }
   ],
   "source": [
    "df"
   ]
  },
  {
   "cell_type": "markdown",
   "id": "306ca845",
   "metadata": {},
   "source": [
    "##### APPLYING FUNCTION"
   ]
  },
  {
   "cell_type": "code",
   "execution_count": 68,
   "id": "32dddc2c",
   "metadata": {},
   "outputs": [
    {
     "data": {
      "text/plain": [
       "0      old\n",
       "1      old\n",
       "2      old\n",
       "3    young\n",
       "Name: AGE, dtype: object"
      ]
     },
     "execution_count": 68,
     "metadata": {},
     "output_type": "execute_result"
    }
   ],
   "source": [
    "def old_young(AGE):\n",
    "    if(AGE>40):\n",
    "        return 'old'\n",
    "    else:\n",
    "        return 'young'\n",
    "df['AGE'].apply(old_young)"
   ]
  },
  {
   "cell_type": "code",
   "execution_count": 69,
   "id": "b3426978",
   "metadata": {},
   "outputs": [
    {
     "data": {
      "text/html": [
       "<div>\n",
       "<style scoped>\n",
       "    .dataframe tbody tr th:only-of-type {\n",
       "        vertical-align: middle;\n",
       "    }\n",
       "\n",
       "    .dataframe tbody tr th {\n",
       "        vertical-align: top;\n",
       "    }\n",
       "\n",
       "    .dataframe thead th {\n",
       "        text-align: right;\n",
       "    }\n",
       "</style>\n",
       "<table border=\"1\" class=\"dataframe\">\n",
       "  <thead>\n",
       "    <tr style=\"text-align: right;\">\n",
       "      <th></th>\n",
       "      <th>NAMES</th>\n",
       "      <th>AGE</th>\n",
       "      <th>CGPA</th>\n",
       "      <th>CITY</th>\n",
       "      <th>SEMESTER</th>\n",
       "      <th>STATUS</th>\n",
       "    </tr>\n",
       "  </thead>\n",
       "  <tbody>\n",
       "    <tr>\n",
       "      <th>0</th>\n",
       "      <td>SARAH</td>\n",
       "      <td>50</td>\n",
       "      <td>3.4</td>\n",
       "      <td>KARACHI</td>\n",
       "      <td>1</td>\n",
       "      <td>old</td>\n",
       "    </tr>\n",
       "    <tr>\n",
       "      <th>1</th>\n",
       "      <td>AHMED</td>\n",
       "      <td>60</td>\n",
       "      <td>2.9</td>\n",
       "      <td>LAHORE</td>\n",
       "      <td>2</td>\n",
       "      <td>old</td>\n",
       "    </tr>\n",
       "    <tr>\n",
       "      <th>2</th>\n",
       "      <td>ALI</td>\n",
       "      <td>70</td>\n",
       "      <td>3.6</td>\n",
       "      <td>ISLAMABAD</td>\n",
       "      <td>3</td>\n",
       "      <td>old</td>\n",
       "    </tr>\n",
       "    <tr>\n",
       "      <th>3</th>\n",
       "      <td>SHOAIB</td>\n",
       "      <td>37</td>\n",
       "      <td>2.9</td>\n",
       "      <td>PINDI</td>\n",
       "      <td>4</td>\n",
       "      <td>young</td>\n",
       "    </tr>\n",
       "  </tbody>\n",
       "</table>\n",
       "</div>"
      ],
      "text/plain": [
       "    NAMES  AGE  CGPA       CITY  SEMESTER STATUS\n",
       "0   SARAH   50   3.4    KARACHI         1    old\n",
       "1   AHMED   60   2.9     LAHORE         2    old\n",
       "2     ALI   70   3.6  ISLAMABAD         3    old\n",
       "3  SHOAIB   37   2.9      PINDI         4  young"
      ]
     },
     "execution_count": 69,
     "metadata": {},
     "output_type": "execute_result"
    }
   ],
   "source": [
    "# saving above result in dataframe column\n",
    "df['STATUS'] = df['AGE'].apply(old_young)\n",
    "df"
   ]
  },
  {
   "cell_type": "code",
   "execution_count": 71,
   "id": "cd231342",
   "metadata": {},
   "outputs": [
    {
     "data": {
      "text/html": [
       "<div>\n",
       "<style scoped>\n",
       "    .dataframe tbody tr th:only-of-type {\n",
       "        vertical-align: middle;\n",
       "    }\n",
       "\n",
       "    .dataframe tbody tr th {\n",
       "        vertical-align: top;\n",
       "    }\n",
       "\n",
       "    .dataframe thead th {\n",
       "        text-align: right;\n",
       "    }\n",
       "</style>\n",
       "<table border=\"1\" class=\"dataframe\">\n",
       "  <thead>\n",
       "    <tr style=\"text-align: right;\">\n",
       "      <th></th>\n",
       "      <th>NAMES</th>\n",
       "      <th>AGE</th>\n",
       "      <th>CGPA</th>\n",
       "      <th>CITY</th>\n",
       "      <th>SEMESTER</th>\n",
       "      <th>STATUS</th>\n",
       "    </tr>\n",
       "  </thead>\n",
       "  <tbody>\n",
       "    <tr>\n",
       "      <th>0</th>\n",
       "      <td>SARAH</td>\n",
       "      <td>50</td>\n",
       "      <td>3.4</td>\n",
       "      <td>KARACHI</td>\n",
       "      <td>1</td>\n",
       "      <td>OLD</td>\n",
       "    </tr>\n",
       "    <tr>\n",
       "      <th>1</th>\n",
       "      <td>AHMED</td>\n",
       "      <td>60</td>\n",
       "      <td>2.9</td>\n",
       "      <td>LAHORE</td>\n",
       "      <td>2</td>\n",
       "      <td>OLD</td>\n",
       "    </tr>\n",
       "    <tr>\n",
       "      <th>2</th>\n",
       "      <td>ALI</td>\n",
       "      <td>70</td>\n",
       "      <td>3.6</td>\n",
       "      <td>ISLAMABAD</td>\n",
       "      <td>3</td>\n",
       "      <td>OLD</td>\n",
       "    </tr>\n",
       "    <tr>\n",
       "      <th>3</th>\n",
       "      <td>SHOAIB</td>\n",
       "      <td>37</td>\n",
       "      <td>2.9</td>\n",
       "      <td>PINDI</td>\n",
       "      <td>4</td>\n",
       "      <td>YOUNG</td>\n",
       "    </tr>\n",
       "  </tbody>\n",
       "</table>\n",
       "</div>"
      ],
      "text/plain": [
       "    NAMES  AGE  CGPA       CITY  SEMESTER STATUS\n",
       "0   SARAH   50   3.4    KARACHI         1    OLD\n",
       "1   AHMED   60   2.9     LAHORE         2    OLD\n",
       "2     ALI   70   3.6  ISLAMABAD         3    OLD\n",
       "3  SHOAIB   37   2.9      PINDI         4  YOUNG"
      ]
     },
     "execution_count": 71,
     "metadata": {},
     "output_type": "execute_result"
    }
   ],
   "source": [
    "# LAMBDA FUNCTION ------> ONE LINE FUNCTION\n",
    "old_young = lambda AGE: \"OLD\" if AGE>40 else \"YOUNG\"\n",
    "df['STATUS'] = df['AGE'].apply(old_young)\n",
    "df\n"
   ]
  },
  {
   "cell_type": "code",
   "execution_count": 74,
   "id": "73b97d6a",
   "metadata": {},
   "outputs": [
    {
     "data": {
      "text/html": [
       "<div>\n",
       "<style scoped>\n",
       "    .dataframe tbody tr th:only-of-type {\n",
       "        vertical-align: middle;\n",
       "    }\n",
       "\n",
       "    .dataframe tbody tr th {\n",
       "        vertical-align: top;\n",
       "    }\n",
       "\n",
       "    .dataframe thead th {\n",
       "        text-align: right;\n",
       "    }\n",
       "</style>\n",
       "<table border=\"1\" class=\"dataframe\">\n",
       "  <thead>\n",
       "    <tr style=\"text-align: right;\">\n",
       "      <th></th>\n",
       "      <th>salary</th>\n",
       "      <th>name</th>\n",
       "    </tr>\n",
       "  </thead>\n",
       "  <tbody>\n",
       "    <tr>\n",
       "      <th>0</th>\n",
       "      <td>1000</td>\n",
       "      <td>mark</td>\n",
       "    </tr>\n",
       "    <tr>\n",
       "      <th>1</th>\n",
       "      <td>2000</td>\n",
       "      <td>jordan</td>\n",
       "    </tr>\n",
       "    <tr>\n",
       "      <th>2</th>\n",
       "      <td>3000</td>\n",
       "      <td>yuaan</td>\n",
       "    </tr>\n",
       "  </tbody>\n",
       "</table>\n",
       "</div>"
      ],
      "text/plain": [
       "   salary    name\n",
       "0    1000    mark\n",
       "1    2000  jordan\n",
       "2    3000   yuaan"
      ]
     },
     "execution_count": 74,
     "metadata": {},
     "output_type": "execute_result"
    }
   ],
   "source": [
    "# ANOTHER EXAMPLE\n",
    "EMPLOYEE = pd.DataFrame(\n",
    "{\n",
    "    'salary':[1000,2000,3000],\n",
    "    'name':['mark','jordan','yuaan']\n",
    "})\n",
    "EMPLOYEE"
   ]
  },
  {
   "cell_type": "code",
   "execution_count": 79,
   "id": "f9172c9d",
   "metadata": {},
   "outputs": [
    {
     "data": {
      "text/html": [
       "<div>\n",
       "<style scoped>\n",
       "    .dataframe tbody tr th:only-of-type {\n",
       "        vertical-align: middle;\n",
       "    }\n",
       "\n",
       "    .dataframe tbody tr th {\n",
       "        vertical-align: top;\n",
       "    }\n",
       "\n",
       "    .dataframe thead th {\n",
       "        text-align: right;\n",
       "    }\n",
       "</style>\n",
       "<table border=\"1\" class=\"dataframe\">\n",
       "  <thead>\n",
       "    <tr style=\"text-align: right;\">\n",
       "      <th></th>\n",
       "      <th>salary</th>\n",
       "      <th>name</th>\n",
       "      <th>increment</th>\n",
       "    </tr>\n",
       "  </thead>\n",
       "  <tbody>\n",
       "    <tr>\n",
       "      <th>0</th>\n",
       "      <td>1000</td>\n",
       "      <td>mark</td>\n",
       "      <td>50</td>\n",
       "    </tr>\n",
       "    <tr>\n",
       "      <th>1</th>\n",
       "      <td>2000</td>\n",
       "      <td>jordan</td>\n",
       "      <td>25</td>\n",
       "    </tr>\n",
       "    <tr>\n",
       "      <th>2</th>\n",
       "      <td>3000</td>\n",
       "      <td>yuaan</td>\n",
       "      <td>25</td>\n",
       "    </tr>\n",
       "  </tbody>\n",
       "</table>\n",
       "</div>"
      ],
      "text/plain": [
       "   salary    name  increment\n",
       "0    1000    mark         50\n",
       "1    2000  jordan         25\n",
       "2    3000   yuaan         25"
      ]
     },
     "execution_count": 79,
     "metadata": {},
     "output_type": "execute_result"
    }
   ],
   "source": [
    "EMPLOYEE['increment'] = EMPLOYEE['salary'].apply(lambda salary:50 if salary<=1000 else 25 )\n",
    "EMPLOYEE"
   ]
  },
  {
   "cell_type": "markdown",
   "id": "427fd750",
   "metadata": {},
   "source": [
    "### NUMPY FUNCTIONS IN DATAFRAME(ASSIGNMENT)"
   ]
  },
  {
   "cell_type": "code",
   "execution_count": 80,
   "id": "87ca6c22",
   "metadata": {},
   "outputs": [
    {
     "data": {
      "text/plain": [
       "0    50\n",
       "1    25\n",
       "2    25\n",
       "Name: increment, dtype: int64"
      ]
     },
     "execution_count": 80,
     "metadata": {},
     "output_type": "execute_result"
    }
   ],
   "source": [
    "np.abs(EMPLOYEE['increment'])"
   ]
  },
  {
   "cell_type": "code",
   "execution_count": 81,
   "id": "63fa3886",
   "metadata": {},
   "outputs": [
    {
     "data": {
      "text/plain": [
       "33.333333333333336"
      ]
     },
     "execution_count": 81,
     "metadata": {},
     "output_type": "execute_result"
    }
   ],
   "source": [
    "np.mean(EMPLOYEE['increment'])"
   ]
  },
  {
   "cell_type": "code",
   "execution_count": 82,
   "id": "df8e04f7",
   "metadata": {},
   "outputs": [
    {
     "data": {
      "text/plain": [
       "0   -0.262375\n",
       "1   -0.132352\n",
       "2   -0.132352\n",
       "Name: increment, dtype: float64"
      ]
     },
     "execution_count": 82,
     "metadata": {},
     "output_type": "execute_result"
    }
   ],
   "source": [
    "np.sin(EMPLOYEE['increment'])"
   ]
  },
  {
   "cell_type": "code",
   "execution_count": 83,
   "id": "95b20de5",
   "metadata": {},
   "outputs": [
    {
     "data": {
      "text/plain": [
       "0    0.964966\n",
       "1    0.991203\n",
       "2    0.991203\n",
       "Name: increment, dtype: float64"
      ]
     },
     "execution_count": 83,
     "metadata": {},
     "output_type": "execute_result"
    }
   ],
   "source": [
    "np.cos(EMPLOYEE['increment'])"
   ]
  },
  {
   "cell_type": "code",
   "execution_count": 84,
   "id": "fe912560",
   "metadata": {},
   "outputs": [
    {
     "data": {
      "text/plain": [
       "0   -0.271901\n",
       "1   -0.133526\n",
       "2   -0.133526\n",
       "Name: increment, dtype: float64"
      ]
     },
     "execution_count": 84,
     "metadata": {},
     "output_type": "execute_result"
    }
   ],
   "source": [
    "np.tan(EMPLOYEE['increment'])"
   ]
  },
  {
   "cell_type": "code",
   "execution_count": 85,
   "id": "2029cbbd",
   "metadata": {},
   "outputs": [
    {
     "data": {
      "text/plain": [
       "25.0"
      ]
     },
     "execution_count": 85,
     "metadata": {},
     "output_type": "execute_result"
    }
   ],
   "source": [
    "np.median(EMPLOYEE['increment'])"
   ]
  },
  {
   "cell_type": "code",
   "execution_count": 87,
   "id": "ce83615a",
   "metadata": {},
   "outputs": [
    {
     "data": {
      "text/plain": [
       "0    5.184706e+21\n",
       "1    7.200490e+10\n",
       "2    7.200490e+10\n",
       "Name: increment, dtype: float64"
      ]
     },
     "execution_count": 87,
     "metadata": {},
     "output_type": "execute_result"
    }
   ],
   "source": [
    "np.exp(EMPLOYEE['increment'])"
   ]
  },
  {
   "cell_type": "code",
   "execution_count": 88,
   "id": "2add1a28",
   "metadata": {},
   "outputs": [
    {
     "data": {
      "text/plain": [
       "0    50.0\n",
       "1    25.0\n",
       "2    25.0\n",
       "Name: increment, dtype: float64"
      ]
     },
     "execution_count": 88,
     "metadata": {},
     "output_type": "execute_result"
    }
   ],
   "source": [
    "np.fabs(EMPLOYEE['increment'])"
   ]
  },
  {
   "cell_type": "code",
   "execution_count": 89,
   "id": "fc6a26cb",
   "metadata": {},
   "outputs": [
    {
     "data": {
      "text/plain": [
       "0    2500\n",
       "1     625\n",
       "2     625\n",
       "Name: increment, dtype: int64"
      ]
     },
     "execution_count": 89,
     "metadata": {},
     "output_type": "execute_result"
    }
   ],
   "source": [
    "np.square(EMPLOYEE['increment'])"
   ]
  },
  {
   "cell_type": "code",
   "execution_count": 90,
   "id": "818a7c7e",
   "metadata": {},
   "outputs": [
    {
     "data": {
      "text/plain": [
       "0    7.071068\n",
       "1    5.000000\n",
       "2    5.000000\n",
       "Name: increment, dtype: float64"
      ]
     },
     "execution_count": 90,
     "metadata": {},
     "output_type": "execute_result"
    }
   ],
   "source": [
    "np.sqrt(EMPLOYEE['increment'])"
   ]
  },
  {
   "cell_type": "code",
   "execution_count": null,
   "id": "ddf618b9",
   "metadata": {},
   "outputs": [],
   "source": []
  }
 ],
 "metadata": {
  "kernelspec": {
   "display_name": "Python 3 (ipykernel)",
   "language": "python",
   "name": "python3"
  },
  "language_info": {
   "codemirror_mode": {
    "name": "ipython",
    "version": 3
   },
   "file_extension": ".py",
   "mimetype": "text/x-python",
   "name": "python",
   "nbconvert_exporter": "python",
   "pygments_lexer": "ipython3",
   "version": "3.9.12"
  }
 },
 "nbformat": 4,
 "nbformat_minor": 5
}
